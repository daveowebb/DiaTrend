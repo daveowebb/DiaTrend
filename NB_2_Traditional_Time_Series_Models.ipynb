{
  "nbformat": 4,
  "nbformat_minor": 0,
  "metadata": {
    "colab": {
      "provenance": [],
      "gpuType": "T4",
      "toc_visible": true
    },
    "kernelspec": {
      "name": "python3",
      "display_name": "Python 3"
    },
    "language_info": {
      "name": "python"
    },
    "accelerator": "GPU"
  },
  "cells": [
    {
      "cell_type": "code",
      "execution_count": null,
      "metadata": {
        "id": "0cWMbDPyFtA1",
        "colab": {
          "base_uri": "https://localhost:8080/"
        },
        "outputId": "08c5e279-8537-4498-f5d7-d817aa8e71a8"
      },
      "outputs": [
        {
          "output_type": "stream",
          "name": "stdout",
          "text": [
            "Mounted at /content/drive\n"
          ]
        }
      ],
      "source": [
        "from google.colab import drive\n",
        "drive.mount('/content/drive', force_remount=True)"
      ]
    },
    {
      "cell_type": "markdown",
      "source": [
        "### Imports"
      ],
      "metadata": {
        "id": "5N5s0esEwlet"
      }
    },
    {
      "cell_type": "code",
      "source": [
        "import pandas as pd\n",
        "import numpy as np\n",
        "from sklearn.model_selection import train_test_split, GridSearchCV\n",
        "from sklearn.metrics import mean_squared_error, mean_absolute_percentage_error, mean_absolute_error\n",
        "import xgboost as xgb\n",
        "from sklearn.impute import SimpleImputer\n",
        "from glob import glob\n",
        "import os\n",
        "from tqdm import tqdm\n",
        "from hyperopt import fmin, tpe, hp, Trials\n",
        "from hyperopt.pyll.base import scope\n",
        "from scipy.optimize import OptimizeWarning\n",
        "import pandas as pd\n",
        "from tqdm import tqdm\n",
        "from sklearn.preprocessing import OneHotEncoder\n",
        "\n",
        "import statsmodels.api as sm\n",
        "\n",
        "import numpy as np\n",
        "import pandas as pd\n",
        "from statsmodels.tsa.ar_model import AutoReg\n",
        "from sklearn.metrics import mean_absolute_error\n",
        "import numpy as np\n",
        "import pandas as pd\n",
        "from statsmodels.tsa.ar_model import AutoReg\n",
        "from statsmodels.discrete.discrete_model import NegativeBinomialP, Poisson\n",
        "from statsmodels.discrete.discrete_model import NegativeBinomial\n",
        "from sklearn.metrics import mean_absolute_error\n",
        "from statsmodels.tsa.arima.model import ARIMA\n",
        "from statsmodels.tsa.holtwinters import ExponentialSmoothing, SimpleExpSmoothing\n",
        "\n",
        "import warnings\n",
        "warnings.filterwarnings(\"ignore\")\n",
        "warnings.filterwarnings(\"ignore\", category=RuntimeWarning)\n",
        "warnings.filterwarnings(\"ignore\", category=OptimizeWarning)"
      ],
      "metadata": {
        "id": "f7cKgm7jtuar"
      },
      "execution_count": null,
      "outputs": []
    },
    {
      "cell_type": "markdown",
      "source": [
        "ARIMA, Exponential Smoothing, Simple Exponential Smoothing, Negative Binomial Autoregressive, and Poisson Autoregressive"
      ],
      "metadata": {
        "id": "MmJ9EYqevRvn"
      }
    },
    {
      "cell_type": "markdown",
      "source": [
        "### Load Files"
      ],
      "metadata": {
        "id": "AzQpbehTwjBe"
      }
    },
    {
      "cell_type": "code",
      "source": [
        "subject_files = glob(\"/content/drive/MyDrive/Upwork clients/ACCOUNT-CREATOR/DiaTrend Data/DiaTrend Data/Sensor Data/*.xlsx\")\n",
        "print(f\"Number of subject files found: {len(subject_files)}\")"
      ],
      "metadata": {
        "colab": {
          "base_uri": "https://localhost:8080/"
        },
        "id": "xgN6Uwk4tVkg",
        "outputId": "26e3e36a-9020-4eba-ed55-5feba5db361a"
      },
      "execution_count": null,
      "outputs": [
        {
          "output_type": "stream",
          "name": "stdout",
          "text": [
            "Number of subject files found: 54\n"
          ]
        }
      ]
    },
    {
      "cell_type": "markdown",
      "source": [
        "##### Configuration\n",
        "##### **Note**: Set `Subjects` and `CGM_Inputs` in Conf class below as per your computation power"
      ],
      "metadata": {
        "id": "NsqiK5VsG_mS"
      }
    },
    {
      "cell_type": "code",
      "source": [
        "class Conf :\n",
        "    Subjects = 54 # define how many subjects you want to include in processing\n",
        "    CGM_Inputs = 100000 # define how many CGM inputs (rows) to consider for training, for all samples use None"
      ],
      "metadata": {
        "id": "fHkm5vzTQ5jL"
      },
      "execution_count": null,
      "outputs": []
    },
    {
      "cell_type": "markdown",
      "source": [
        "### Data Preprocessing"
      ],
      "metadata": {
        "id": "J1pbQ7ZSbnSj"
      }
    },
    {
      "cell_type": "code",
      "source": [
        "# Placeholder for all data\n",
        "all_data = []\n",
        "\n",
        "# Iterate over each subject file\n",
        "for subject_file in tqdm(sorted(subject_files)[:min(Conf.Subjects, len(subject_files))]):\n",
        "    try:\n",
        "        print(f\"Processing {subject_file}...\")\n",
        "\n",
        "        # Load CGM and Bolus data for each subject\n",
        "        cgm_data = pd.read_excel(subject_file, sheet_name='CGM', parse_dates=['date'])\n",
        "\n",
        "        # Check if data was loaded correctly\n",
        "        if cgm_data.empty:\n",
        "            print(f\"No data found in {subject_file}\")\n",
        "            continue\n",
        "\n",
        "        cgm_data['date'] = pd.to_datetime(cgm_data['date'], format='ISO8601')\n",
        "\n",
        "        # Append to the all_data list\n",
        "        if Conf.CGM_Inputs is None:\n",
        "            all_data.append(cgm_data.head(len(cgm_data)))\n",
        "        else:\n",
        "            all_data.append(cgm_data.head(min(Conf.CGM_Inputs, len(cgm_data))))\n",
        "\n",
        "    except Exception as ex:\n",
        "        print(f\"Error Occurred at {os.path.basename(subject_file)}: {str(ex)}\")\n",
        "\n",
        "\n",
        "# Check if all_data is empty before concatenation\n",
        "if not all_data:\n",
        "    print(\"No data was successfully processed. Exiting.\")\n",
        "else:\n",
        "    # Concatenate all subjects' data into a single DataFrame\n",
        "    final_data = pd.concat(all_data, axis=0).reset_index(drop=True)\n",
        "    X = final_data['date']\n",
        "    y = final_data['mg/dl']\n",
        "    print(\"Dataset shape:\", X.shape)"
      ],
      "metadata": {
        "colab": {
          "base_uri": "https://localhost:8080/"
        },
        "id": "R0ACFurQZeMZ",
        "outputId": "9f1a04db-51bd-43b8-ecaf-8032389ad812"
      },
      "execution_count": null,
      "outputs": [
        {
          "output_type": "stream",
          "name": "stderr",
          "text": [
            "\r  0%|          | 0/54 [00:00<?, ?it/s]"
          ]
        },
        {
          "output_type": "stream",
          "name": "stdout",
          "text": [
            "Processing /content/drive/MyDrive/Upwork clients/ACCOUNT-CREATOR/DiaTrend Data/DiaTrend Data/Sensor Data/Subject1.xlsx...\n"
          ]
        },
        {
          "output_type": "stream",
          "name": "stderr",
          "text": [
            "\r  2%|▏         | 1/54 [00:36<31:50, 36.04s/it]"
          ]
        },
        {
          "output_type": "stream",
          "name": "stdout",
          "text": [
            "Processing /content/drive/MyDrive/Upwork clients/ACCOUNT-CREATOR/DiaTrend Data/DiaTrend Data/Sensor Data/Subject10.xlsx...\n"
          ]
        },
        {
          "output_type": "stream",
          "name": "stderr",
          "text": [
            "\r  4%|▎         | 2/54 [00:49<19:29, 22.50s/it]"
          ]
        },
        {
          "output_type": "stream",
          "name": "stdout",
          "text": [
            "Processing /content/drive/MyDrive/Upwork clients/ACCOUNT-CREATOR/DiaTrend Data/DiaTrend Data/Sensor Data/Subject11.xlsx...\n"
          ]
        },
        {
          "output_type": "stream",
          "name": "stderr",
          "text": [
            "\r  6%|▌         | 3/54 [01:00<14:57, 17.61s/it]"
          ]
        },
        {
          "output_type": "stream",
          "name": "stdout",
          "text": [
            "Processing /content/drive/MyDrive/Upwork clients/ACCOUNT-CREATOR/DiaTrend Data/DiaTrend Data/Sensor Data/Subject12.xlsx...\n"
          ]
        },
        {
          "output_type": "stream",
          "name": "stderr",
          "text": [
            "\r  7%|▋         | 4/54 [01:13<13:00, 15.62s/it]"
          ]
        },
        {
          "output_type": "stream",
          "name": "stdout",
          "text": [
            "Processing /content/drive/MyDrive/Upwork clients/ACCOUNT-CREATOR/DiaTrend Data/DiaTrend Data/Sensor Data/Subject13.xlsx...\n"
          ]
        },
        {
          "output_type": "stream",
          "name": "stderr",
          "text": [
            "\r  9%|▉         | 5/54 [01:24<11:21, 13.90s/it]"
          ]
        },
        {
          "output_type": "stream",
          "name": "stdout",
          "text": [
            "Processing /content/drive/MyDrive/Upwork clients/ACCOUNT-CREATOR/DiaTrend Data/DiaTrend Data/Sensor Data/Subject14.xlsx...\n"
          ]
        },
        {
          "output_type": "stream",
          "name": "stderr",
          "text": [
            "\r 11%|█         | 6/54 [01:31<09:21, 11.70s/it]"
          ]
        },
        {
          "output_type": "stream",
          "name": "stdout",
          "text": [
            "Processing /content/drive/MyDrive/Upwork clients/ACCOUNT-CREATOR/DiaTrend Data/DiaTrend Data/Sensor Data/Subject15.xlsx...\n"
          ]
        },
        {
          "output_type": "stream",
          "name": "stderr",
          "text": [
            "\r 13%|█▎        | 7/54 [01:41<08:38, 11.03s/it]"
          ]
        },
        {
          "output_type": "stream",
          "name": "stdout",
          "text": [
            "Processing /content/drive/MyDrive/Upwork clients/ACCOUNT-CREATOR/DiaTrend Data/DiaTrend Data/Sensor Data/Subject16.xlsx...\n"
          ]
        },
        {
          "output_type": "stream",
          "name": "stderr",
          "text": [
            "\r 15%|█▍        | 8/54 [01:50<07:56, 10.36s/it]"
          ]
        },
        {
          "output_type": "stream",
          "name": "stdout",
          "text": [
            "Processing /content/drive/MyDrive/Upwork clients/ACCOUNT-CREATOR/DiaTrend Data/DiaTrend Data/Sensor Data/Subject17.xlsx...\n"
          ]
        },
        {
          "output_type": "stream",
          "name": "stderr",
          "text": [
            "\r 17%|█▋        | 9/54 [01:56<06:54,  9.22s/it]"
          ]
        },
        {
          "output_type": "stream",
          "name": "stdout",
          "text": [
            "Processing /content/drive/MyDrive/Upwork clients/ACCOUNT-CREATOR/DiaTrend Data/DiaTrend Data/Sensor Data/Subject18.xlsx...\n"
          ]
        },
        {
          "output_type": "stream",
          "name": "stderr",
          "text": [
            "\r 19%|█▊        | 10/54 [02:04<06:25,  8.76s/it]"
          ]
        },
        {
          "output_type": "stream",
          "name": "stdout",
          "text": [
            "Processing /content/drive/MyDrive/Upwork clients/ACCOUNT-CREATOR/DiaTrend Data/DiaTrend Data/Sensor Data/Subject19.xlsx...\n"
          ]
        },
        {
          "output_type": "stream",
          "name": "stderr",
          "text": [
            "\r 20%|██        | 11/54 [02:10<05:34,  7.79s/it]"
          ]
        },
        {
          "output_type": "stream",
          "name": "stdout",
          "text": [
            "Processing /content/drive/MyDrive/Upwork clients/ACCOUNT-CREATOR/DiaTrend Data/DiaTrend Data/Sensor Data/Subject2.xlsx...\n"
          ]
        },
        {
          "output_type": "stream",
          "name": "stderr",
          "text": [
            "\r 22%|██▏       | 12/54 [02:39<09:57, 14.22s/it]"
          ]
        },
        {
          "output_type": "stream",
          "name": "stdout",
          "text": [
            "Processing /content/drive/MyDrive/Upwork clients/ACCOUNT-CREATOR/DiaTrend Data/DiaTrend Data/Sensor Data/Subject20.xlsx...\n"
          ]
        },
        {
          "output_type": "stream",
          "name": "stderr",
          "text": [
            "\r 24%|██▍       | 13/54 [02:46<08:10, 11.96s/it]"
          ]
        },
        {
          "output_type": "stream",
          "name": "stdout",
          "text": [
            "Processing /content/drive/MyDrive/Upwork clients/ACCOUNT-CREATOR/DiaTrend Data/DiaTrend Data/Sensor Data/Subject21.xlsx...\n"
          ]
        },
        {
          "output_type": "stream",
          "name": "stderr",
          "text": [
            "\r 26%|██▌       | 14/54 [02:50<06:31,  9.79s/it]"
          ]
        },
        {
          "output_type": "stream",
          "name": "stdout",
          "text": [
            "Processing /content/drive/MyDrive/Upwork clients/ACCOUNT-CREATOR/DiaTrend Data/DiaTrend Data/Sensor Data/Subject22.xlsx...\n"
          ]
        },
        {
          "output_type": "stream",
          "name": "stderr",
          "text": [
            "\r 28%|██▊       | 15/54 [02:54<05:12,  8.02s/it]"
          ]
        },
        {
          "output_type": "stream",
          "name": "stdout",
          "text": [
            "Processing /content/drive/MyDrive/Upwork clients/ACCOUNT-CREATOR/DiaTrend Data/DiaTrend Data/Sensor Data/Subject23.xlsx...\n"
          ]
        },
        {
          "output_type": "stream",
          "name": "stderr",
          "text": [
            "\r 30%|██▉       | 16/54 [03:00<04:34,  7.21s/it]"
          ]
        },
        {
          "output_type": "stream",
          "name": "stdout",
          "text": [
            "Processing /content/drive/MyDrive/Upwork clients/ACCOUNT-CREATOR/DiaTrend Data/DiaTrend Data/Sensor Data/Subject24.xlsx...\n"
          ]
        },
        {
          "output_type": "stream",
          "name": "stderr",
          "text": [
            "\r 31%|███▏      | 17/54 [03:02<03:37,  5.88s/it]"
          ]
        },
        {
          "output_type": "stream",
          "name": "stdout",
          "text": [
            "Processing /content/drive/MyDrive/Upwork clients/ACCOUNT-CREATOR/DiaTrend Data/DiaTrend Data/Sensor Data/Subject25.xlsx...\n"
          ]
        },
        {
          "output_type": "stream",
          "name": "stderr",
          "text": [
            "\r 33%|███▎      | 18/54 [03:07<03:19,  5.54s/it]"
          ]
        },
        {
          "output_type": "stream",
          "name": "stdout",
          "text": [
            "Processing /content/drive/MyDrive/Upwork clients/ACCOUNT-CREATOR/DiaTrend Data/DiaTrend Data/Sensor Data/Subject26.xlsx...\n"
          ]
        },
        {
          "output_type": "stream",
          "name": "stderr",
          "text": [
            "\r 35%|███▌      | 19/54 [03:10<02:47,  4.78s/it]"
          ]
        },
        {
          "output_type": "stream",
          "name": "stdout",
          "text": [
            "Processing /content/drive/MyDrive/Upwork clients/ACCOUNT-CREATOR/DiaTrend Data/DiaTrend Data/Sensor Data/Subject27.xlsx...\n"
          ]
        },
        {
          "output_type": "stream",
          "name": "stderr",
          "text": [
            "\r 37%|███▋      | 20/54 [03:14<02:29,  4.41s/it]"
          ]
        },
        {
          "output_type": "stream",
          "name": "stdout",
          "text": [
            "Processing /content/drive/MyDrive/Upwork clients/ACCOUNT-CREATOR/DiaTrend Data/DiaTrend Data/Sensor Data/Subject28.xlsx...\n"
          ]
        },
        {
          "output_type": "stream",
          "name": "stderr",
          "text": [
            "\r 39%|███▉      | 21/54 [03:16<02:09,  3.93s/it]"
          ]
        },
        {
          "output_type": "stream",
          "name": "stdout",
          "text": [
            "Processing /content/drive/MyDrive/Upwork clients/ACCOUNT-CREATOR/DiaTrend Data/DiaTrend Data/Sensor Data/Subject29.xlsx...\n"
          ]
        },
        {
          "output_type": "stream",
          "name": "stderr",
          "text": [
            "\r 41%|████      | 22/54 [03:19<01:55,  3.60s/it]"
          ]
        },
        {
          "output_type": "stream",
          "name": "stdout",
          "text": [
            "Processing /content/drive/MyDrive/Upwork clients/ACCOUNT-CREATOR/DiaTrend Data/DiaTrend Data/Sensor Data/Subject3.xlsx...\n"
          ]
        },
        {
          "output_type": "stream",
          "name": "stderr",
          "text": [
            "\r 43%|████▎     | 23/54 [03:44<05:06,  9.90s/it]"
          ]
        },
        {
          "output_type": "stream",
          "name": "stdout",
          "text": [
            "Processing /content/drive/MyDrive/Upwork clients/ACCOUNT-CREATOR/DiaTrend Data/DiaTrend Data/Sensor Data/Subject30.xlsx...\n"
          ]
        },
        {
          "output_type": "stream",
          "name": "stderr",
          "text": [
            "\r 44%|████▍     | 24/54 [03:46<03:44,  7.49s/it]"
          ]
        },
        {
          "output_type": "stream",
          "name": "stdout",
          "text": [
            "Processing /content/drive/MyDrive/Upwork clients/ACCOUNT-CREATOR/DiaTrend Data/DiaTrend Data/Sensor Data/Subject31.xlsx...\n"
          ]
        },
        {
          "output_type": "stream",
          "name": "stderr",
          "text": [
            "\r 46%|████▋     | 25/54 [03:48<02:47,  5.78s/it]"
          ]
        },
        {
          "output_type": "stream",
          "name": "stdout",
          "text": [
            "Processing /content/drive/MyDrive/Upwork clients/ACCOUNT-CREATOR/DiaTrend Data/DiaTrend Data/Sensor Data/Subject32.xlsx...\n"
          ]
        },
        {
          "output_type": "stream",
          "name": "stderr",
          "text": [
            "\r 48%|████▊     | 26/54 [03:49<02:04,  4.46s/it]"
          ]
        },
        {
          "output_type": "stream",
          "name": "stdout",
          "text": [
            "Processing /content/drive/MyDrive/Upwork clients/ACCOUNT-CREATOR/DiaTrend Data/DiaTrend Data/Sensor Data/Subject33.xlsx...\n"
          ]
        },
        {
          "output_type": "stream",
          "name": "stderr",
          "text": [
            "\r 50%|█████     | 27/54 [03:51<01:43,  3.83s/it]"
          ]
        },
        {
          "output_type": "stream",
          "name": "stdout",
          "text": [
            "Processing /content/drive/MyDrive/Upwork clients/ACCOUNT-CREATOR/DiaTrend Data/DiaTrend Data/Sensor Data/Subject34.xlsx...\n"
          ]
        },
        {
          "output_type": "stream",
          "name": "stderr",
          "text": [
            "\r 52%|█████▏    | 28/54 [03:53<01:25,  3.29s/it]"
          ]
        },
        {
          "output_type": "stream",
          "name": "stdout",
          "text": [
            "Processing /content/drive/MyDrive/Upwork clients/ACCOUNT-CREATOR/DiaTrend Data/DiaTrend Data/Sensor Data/Subject35.xlsx...\n"
          ]
        },
        {
          "output_type": "stream",
          "name": "stderr",
          "text": [
            "\r 54%|█████▎    | 29/54 [03:54<01:06,  2.65s/it]"
          ]
        },
        {
          "output_type": "stream",
          "name": "stdout",
          "text": [
            "Processing /content/drive/MyDrive/Upwork clients/ACCOUNT-CREATOR/DiaTrend Data/DiaTrend Data/Sensor Data/Subject36.xlsx...\n"
          ]
        },
        {
          "output_type": "stream",
          "name": "stderr",
          "text": [
            "\r 56%|█████▌    | 30/54 [03:55<00:51,  2.16s/it]"
          ]
        },
        {
          "output_type": "stream",
          "name": "stdout",
          "text": [
            "Processing /content/drive/MyDrive/Upwork clients/ACCOUNT-CREATOR/DiaTrend Data/DiaTrend Data/Sensor Data/Subject37.xlsx...\n"
          ]
        },
        {
          "output_type": "stream",
          "name": "stderr",
          "text": [
            "\r 57%|█████▋    | 31/54 [03:57<00:44,  1.92s/it]"
          ]
        },
        {
          "output_type": "stream",
          "name": "stdout",
          "text": [
            "Processing /content/drive/MyDrive/Upwork clients/ACCOUNT-CREATOR/DiaTrend Data/DiaTrend Data/Sensor Data/Subject38.xlsx...\n"
          ]
        },
        {
          "output_type": "stream",
          "name": "stderr",
          "text": [
            "\r 59%|█████▉    | 32/54 [03:58<00:38,  1.75s/it]"
          ]
        },
        {
          "output_type": "stream",
          "name": "stdout",
          "text": [
            "Processing /content/drive/MyDrive/Upwork clients/ACCOUNT-CREATOR/DiaTrend Data/DiaTrend Data/Sensor Data/Subject39.xlsx...\n"
          ]
        },
        {
          "output_type": "stream",
          "name": "stderr",
          "text": [
            "\r 61%|██████    | 33/54 [03:59<00:34,  1.62s/it]"
          ]
        },
        {
          "output_type": "stream",
          "name": "stdout",
          "text": [
            "Processing /content/drive/MyDrive/Upwork clients/ACCOUNT-CREATOR/DiaTrend Data/DiaTrend Data/Sensor Data/Subject4.xlsx...\n"
          ]
        },
        {
          "output_type": "stream",
          "name": "stderr",
          "text": [
            "\r 63%|██████▎   | 34/54 [04:23<02:43,  8.15s/it]"
          ]
        },
        {
          "output_type": "stream",
          "name": "stdout",
          "text": [
            "Processing /content/drive/MyDrive/Upwork clients/ACCOUNT-CREATOR/DiaTrend Data/DiaTrend Data/Sensor Data/Subject40.xlsx...\n"
          ]
        },
        {
          "output_type": "stream",
          "name": "stderr",
          "text": [
            "\r 65%|██████▍   | 35/54 [04:24<01:55,  6.08s/it]"
          ]
        },
        {
          "output_type": "stream",
          "name": "stdout",
          "text": [
            "Processing /content/drive/MyDrive/Upwork clients/ACCOUNT-CREATOR/DiaTrend Data/DiaTrend Data/Sensor Data/Subject41.xlsx...\n"
          ]
        },
        {
          "output_type": "stream",
          "name": "stderr",
          "text": [
            "\r 67%|██████▋   | 36/54 [04:25<01:22,  4.58s/it]"
          ]
        },
        {
          "output_type": "stream",
          "name": "stdout",
          "text": [
            "Processing /content/drive/MyDrive/Upwork clients/ACCOUNT-CREATOR/DiaTrend Data/DiaTrend Data/Sensor Data/Subject42.xlsx...\n"
          ]
        },
        {
          "output_type": "stream",
          "name": "stderr",
          "text": [
            "\r 69%|██████▊   | 37/54 [04:27<01:02,  3.68s/it]"
          ]
        },
        {
          "output_type": "stream",
          "name": "stdout",
          "text": [
            "Processing /content/drive/MyDrive/Upwork clients/ACCOUNT-CREATOR/DiaTrend Data/DiaTrend Data/Sensor Data/Subject43.xlsx...\n"
          ]
        },
        {
          "output_type": "stream",
          "name": "stderr",
          "text": [
            "\r 70%|███████   | 38/54 [04:28<00:46,  2.88s/it]"
          ]
        },
        {
          "output_type": "stream",
          "name": "stdout",
          "text": [
            "Processing /content/drive/MyDrive/Upwork clients/ACCOUNT-CREATOR/DiaTrend Data/DiaTrend Data/Sensor Data/Subject44.xlsx...\n"
          ]
        },
        {
          "output_type": "stream",
          "name": "stderr",
          "text": [
            "\r 72%|███████▏  | 39/54 [04:29<00:35,  2.35s/it]"
          ]
        },
        {
          "output_type": "stream",
          "name": "stdout",
          "text": [
            "Processing /content/drive/MyDrive/Upwork clients/ACCOUNT-CREATOR/DiaTrend Data/DiaTrend Data/Sensor Data/Subject45.xlsx...\n"
          ]
        },
        {
          "output_type": "stream",
          "name": "stderr",
          "text": [
            "\r 74%|███████▍  | 40/54 [04:30<00:27,  1.95s/it]"
          ]
        },
        {
          "output_type": "stream",
          "name": "stdout",
          "text": [
            "Processing /content/drive/MyDrive/Upwork clients/ACCOUNT-CREATOR/DiaTrend Data/DiaTrend Data/Sensor Data/Subject46.xlsx...\n"
          ]
        },
        {
          "output_type": "stream",
          "name": "stderr",
          "text": [
            "\r 76%|███████▌  | 41/54 [04:31<00:20,  1.59s/it]"
          ]
        },
        {
          "output_type": "stream",
          "name": "stdout",
          "text": [
            "Processing /content/drive/MyDrive/Upwork clients/ACCOUNT-CREATOR/DiaTrend Data/DiaTrend Data/Sensor Data/Subject47.xlsx...\n"
          ]
        },
        {
          "output_type": "stream",
          "name": "stderr",
          "text": [
            "\r 78%|███████▊  | 42/54 [04:32<00:16,  1.40s/it]"
          ]
        },
        {
          "output_type": "stream",
          "name": "stdout",
          "text": [
            "Processing /content/drive/MyDrive/Upwork clients/ACCOUNT-CREATOR/DiaTrend Data/DiaTrend Data/Sensor Data/Subject48.xlsx...\n"
          ]
        },
        {
          "output_type": "stream",
          "name": "stderr",
          "text": [
            "\r 80%|███████▉  | 43/54 [04:33<00:13,  1.27s/it]"
          ]
        },
        {
          "output_type": "stream",
          "name": "stdout",
          "text": [
            "Processing /content/drive/MyDrive/Upwork clients/ACCOUNT-CREATOR/DiaTrend Data/DiaTrend Data/Sensor Data/Subject49.xlsx...\n"
          ]
        },
        {
          "output_type": "stream",
          "name": "stderr",
          "text": [
            "\r 81%|████████▏ | 44/54 [04:34<00:12,  1.23s/it]"
          ]
        },
        {
          "output_type": "stream",
          "name": "stdout",
          "text": [
            "Processing /content/drive/MyDrive/Upwork clients/ACCOUNT-CREATOR/DiaTrend Data/DiaTrend Data/Sensor Data/Subject5.xlsx...\n"
          ]
        },
        {
          "output_type": "stream",
          "name": "stderr",
          "text": [
            "\r 83%|████████▎ | 45/54 [04:50<00:51,  5.74s/it]"
          ]
        },
        {
          "output_type": "stream",
          "name": "stdout",
          "text": [
            "Processing /content/drive/MyDrive/Upwork clients/ACCOUNT-CREATOR/DiaTrend Data/DiaTrend Data/Sensor Data/Subject50.xlsx...\n"
          ]
        },
        {
          "output_type": "stream",
          "name": "stderr",
          "text": [
            "\r 85%|████████▌ | 46/54 [04:51<00:33,  4.21s/it]"
          ]
        },
        {
          "output_type": "stream",
          "name": "stdout",
          "text": [
            "Processing /content/drive/MyDrive/Upwork clients/ACCOUNT-CREATOR/DiaTrend Data/DiaTrend Data/Sensor Data/Subject51.xlsx...\n"
          ]
        },
        {
          "output_type": "stream",
          "name": "stderr",
          "text": [
            "\r 87%|████████▋ | 47/54 [04:51<00:21,  3.13s/it]"
          ]
        },
        {
          "output_type": "stream",
          "name": "stdout",
          "text": [
            "Processing /content/drive/MyDrive/Upwork clients/ACCOUNT-CREATOR/DiaTrend Data/DiaTrend Data/Sensor Data/Subject52.xlsx...\n"
          ]
        },
        {
          "output_type": "stream",
          "name": "stderr",
          "text": [
            "\r 89%|████████▉ | 48/54 [04:52<00:14,  2.38s/it]"
          ]
        },
        {
          "output_type": "stream",
          "name": "stdout",
          "text": [
            "Processing /content/drive/MyDrive/Upwork clients/ACCOUNT-CREATOR/DiaTrend Data/DiaTrend Data/Sensor Data/Subject53.xlsx...\n"
          ]
        },
        {
          "output_type": "stream",
          "name": "stderr",
          "text": [
            "\r 91%|█████████ | 49/54 [04:53<00:09,  1.91s/it]"
          ]
        },
        {
          "output_type": "stream",
          "name": "stdout",
          "text": [
            "Processing /content/drive/MyDrive/Upwork clients/ACCOUNT-CREATOR/DiaTrend Data/DiaTrend Data/Sensor Data/Subject54.xlsx...\n"
          ]
        },
        {
          "output_type": "stream",
          "name": "stderr",
          "text": [
            "\r 93%|█████████▎| 50/54 [04:53<00:06,  1.53s/it]"
          ]
        },
        {
          "output_type": "stream",
          "name": "stdout",
          "text": [
            "Processing /content/drive/MyDrive/Upwork clients/ACCOUNT-CREATOR/DiaTrend Data/DiaTrend Data/Sensor Data/Subject6.xlsx...\n"
          ]
        },
        {
          "output_type": "stream",
          "name": "stderr",
          "text": [
            "\r 94%|█████████▍| 51/54 [05:11<00:19,  6.37s/it]"
          ]
        },
        {
          "output_type": "stream",
          "name": "stdout",
          "text": [
            "Processing /content/drive/MyDrive/Upwork clients/ACCOUNT-CREATOR/DiaTrend Data/DiaTrend Data/Sensor Data/Subject7.xlsx...\n"
          ]
        },
        {
          "output_type": "stream",
          "name": "stderr",
          "text": [
            "\r 96%|█████████▋| 52/54 [05:29<00:19,  9.79s/it]"
          ]
        },
        {
          "output_type": "stream",
          "name": "stdout",
          "text": [
            "Processing /content/drive/MyDrive/Upwork clients/ACCOUNT-CREATOR/DiaTrend Data/DiaTrend Data/Sensor Data/Subject8.xlsx...\n"
          ]
        },
        {
          "output_type": "stream",
          "name": "stderr",
          "text": [
            "\r 98%|█████████▊| 53/54 [05:44<00:11, 11.54s/it]"
          ]
        },
        {
          "output_type": "stream",
          "name": "stdout",
          "text": [
            "Processing /content/drive/MyDrive/Upwork clients/ACCOUNT-CREATOR/DiaTrend Data/DiaTrend Data/Sensor Data/Subject9.xlsx...\n"
          ]
        },
        {
          "output_type": "stream",
          "name": "stderr",
          "text": [
            "100%|██████████| 54/54 [05:59<00:00,  6.66s/it]"
          ]
        },
        {
          "output_type": "stream",
          "name": "stdout",
          "text": [
            "Dataset shape: (2027648,)\n"
          ]
        },
        {
          "output_type": "stream",
          "name": "stderr",
          "text": [
            "\n"
          ]
        }
      ]
    },
    {
      "cell_type": "code",
      "source": [
        "X_train, X_test, y_train, y_test = train_test_split(X, y, test_size=0.2, shuffle=False)\n",
        "print(X_train.shape, y_train.shape)"
      ],
      "metadata": {
        "colab": {
          "base_uri": "https://localhost:8080/"
        },
        "id": "6E34UdRWZeIu",
        "outputId": "1871670a-611d-48f9-b04b-e98ed3f75cf4"
      },
      "execution_count": null,
      "outputs": [
        {
          "output_type": "stream",
          "name": "stdout",
          "text": [
            "(1622118,) (1622118,)\n"
          ]
        }
      ]
    },
    {
      "cell_type": "code",
      "source": [
        "def clean_data(df):\n",
        "    df = df.replace([np.inf, -np.inf], np.nan)\n",
        "    df = df.dropna()\n",
        "    return df\n",
        "\n",
        "\n",
        "def train_arima_model(train_data):\n",
        "    model = ARIMA(train_data, order=(5, 1, 0))\n",
        "    model_fit = model.fit()\n",
        "    return model_fit\n",
        "\n",
        "\n",
        "def train_exponential_smoothing_model(train_data):\n",
        "    model = ExponentialSmoothing(train_data, trend='add', seasonal=None, damped_trend=False)\n",
        "    model_fit = model.fit()\n",
        "    return model_fit\n",
        "\n",
        "\n",
        "def train_simple_exponential_smoothing_model(train_data):\n",
        "    model = SimpleExpSmoothing(train_data)\n",
        "    model_fit = model.fit()\n",
        "    return model_fit\n",
        "\n",
        "\n",
        "def autoreg_model(y_train, y_test, lags=1):\n",
        "    model = AutoReg(y_train, lags=lags)\n",
        "    model_fitted = model.fit()\n",
        "    return model_fitted\n",
        "\n",
        "\n",
        "def calculate_metrics(y_test, y_pred):\n",
        "    if len(y_test) != len(y_pred):\n",
        "        raise ValueError(\"y_test and y_pred must have the same length.\")\n",
        "    mse = mean_squared_error(y_test, y_pred)\n",
        "    rmse = np.sqrt(mse)\n",
        "    mae = mean_absolute_error(y_test, y_pred)\n",
        "    mape = mean_absolute_percentage_error(y_test, y_pred)\n",
        "    return {'MAE': mae, 'RMSE': rmse, 'MAPE': mape}\n",
        "\n",
        "\n",
        "def train_and_evaluate_autoreg_poisson(y_train, y_test, lags=1):\n",
        "    # Fit AutoReg model\n",
        "    model = AutoReg(y_train, lags=lags)\n",
        "    model_fitted = model.fit()\n",
        "\n",
        "    # Predictions for training and testing\n",
        "    y_train_pred = model_fitted.predict(start=len(y_train) - len(y_train), end=len(y_train) - 1, dynamic=False)\n",
        "    y_test_pred = model_fitted.predict(start=len(y_train), end=len(y_train) + len(y_test) - 1, dynamic=False)\n",
        "\n",
        "    # Create DataFrames for cleaning\n",
        "    df_train = pd.DataFrame({'target': y_train, 'predicted': y_train_pred})\n",
        "    df_test = pd.DataFrame({'predicted': y_test_pred})\n",
        "\n",
        "    # Clean DataFrames\n",
        "    df_train = clean_data(df_train)\n",
        "    df_test_clean = clean_data(df_test)\n",
        "\n",
        "    # Check for missing or infinite values in the cleaned test DataFrame\n",
        "    if df_test_clean[['predicted']].isnull().values.any() or np.isinf(df_test_clean[['predicted']]).values.any():\n",
        "        raise ValueError(\"Data contains missing or infinite values after cleaning\")\n",
        "\n",
        "    # Fit Poisson Model\n",
        "    poisson_model = Poisson(df_train['target'], df_train[['predicted']])\n",
        "\n",
        "    try:\n",
        "        poisson_fitted = poisson_model.fit()\n",
        "    except Exception as e:\n",
        "        print(f\"Poisson Model fitting failed: {e}\")\n",
        "        return None, None\n",
        "\n",
        "    # Predict using Poisson model (if needed)\n",
        "    try:\n",
        "        y_test_pred_poisson = poisson_fitted.predict(exog=df_test_clean[['predicted']])\n",
        "    except Exception as e:\n",
        "        print(f\"Prediction with Poisson Model failed: {e}\")\n",
        "        return None, None\n",
        "\n",
        "    # Calculate metrics\n",
        "    try:\n",
        "        metrics_poisson_model = calculate_metrics(y_test, y_test_pred_poisson)\n",
        "    except ValueError as e:\n",
        "        print(f\"Metric calculation failed: {e}\")\n",
        "        metrics_negative_binomial = None\n",
        "\n",
        "    return poisson_fitted, metrics_poisson_model\n",
        "\n",
        "\n",
        "def train_and_evaluate_autoreg_negbinom(y_train, y_test, lags=1):\n",
        "    # Fit AutoReg model\n",
        "    model = AutoReg(y_train, lags=lags)\n",
        "    model_fitted = model.fit()\n",
        "\n",
        "    # Predictions for training and testing\n",
        "    y_train_pred = model_fitted.predict(start=len(y_train) - len(y_train), end=len(y_train) - 1, dynamic=False)\n",
        "    y_test_pred = model_fitted.predict(start=len(y_train), end=len(y_train) + len(y_test) - 1, dynamic=False)\n",
        "\n",
        "    # Create DataFrames for cleaning\n",
        "    df_train = pd.DataFrame({'target': y_train, 'predicted': y_train_pred})\n",
        "    df_test = pd.DataFrame({'predicted': y_test_pred})\n",
        "\n",
        "    # Clean DataFrames\n",
        "    df_train = clean_data(df_train)\n",
        "    df_test_clean = clean_data(df_test)\n",
        "\n",
        "    # Check for missing or infinite values in the cleaned test DataFrame\n",
        "    if df_test_clean[['predicted']].isnull().values.any() or np.isinf(df_test_clean[['predicted']]).values.any():\n",
        "        raise ValueError(\"Data contains missing or infinite values after cleaning\")\n",
        "\n",
        "    # Fit Negative Binomial model\n",
        "    negbinom_model = NegativeBinomial(df_train['target'], df_train[['predicted']])\n",
        "\n",
        "    try:\n",
        "        negbinom_fitted = negbinom_model.fit()\n",
        "    except Exception as e:\n",
        "        print(f\"Negative Binomial Model fitting failed: {e}\")\n",
        "        return None, None\n",
        "\n",
        "    # Predict using Negative Binomial model (if needed)\n",
        "    try:\n",
        "        y_test_pred_negbinom = negbinom_fitted.predict(exog=df_test_clean[['predicted']])\n",
        "    except Exception as e:\n",
        "        print(f\"Prediction with Negative Binomial Model failed: {e}\")\n",
        "        return None, None\n",
        "\n",
        "    # Calculate metrics\n",
        "    try:\n",
        "        metrics_negative_binomial = calculate_metrics(y_test, y_test_pred_negbinom)\n",
        "    except ValueError as e:\n",
        "        print(f\"Metric calculation failed: {e}\")\n",
        "        metrics_negative_binomial = None\n",
        "\n",
        "    return negbinom_fitted, metrics_negative_binomial"
      ],
      "metadata": {
        "id": "S7G9AZacZeEf"
      },
      "execution_count": null,
      "outputs": []
    },
    {
      "cell_type": "markdown",
      "source": [
        "### Model Training"
      ],
      "metadata": {
        "id": "uqVmW6adrptc"
      }
    },
    {
      "cell_type": "code",
      "source": [
        "results = []\n",
        "\n",
        "# ARIMA Model\n",
        "arima_model = train_arima_model(y_train)\n",
        "y_pred_arima = arima_model.forecast(steps=len(y_test))\n",
        "metrics_arima = calculate_metrics(y_test, y_pred_arima)\n",
        "metrics_arima['Model Name'] = 'ARIMA'\n",
        "results.append(metrics_arima)\n",
        "print('Model: ARIMA', metrics_arima)\n",
        "\n",
        "# Exponential Smoothing Model\n",
        "exp_smoothing_model = train_exponential_smoothing_model(y_train)\n",
        "y_pred_exp_smoothing = exp_smoothing_model.forecast(len(y_test))\n",
        "metrics_exp_smoothing = calculate_metrics(y_test, y_pred_exp_smoothing)\n",
        "metrics_exp_smoothing['Model Name'] = 'Exponential Smoothing'\n",
        "results.append(metrics_exp_smoothing)\n",
        "print('Model: Exponential Smoothing', metrics_exp_smoothing)\n",
        "\n",
        "# Simple Exponential Smoothing Model\n",
        "sim_exp_smoothing_model = train_simple_exponential_smoothing_model(y_train)\n",
        "y_pred_sim_exp_smoothing = sim_exp_smoothing_model.forecast(len(y_test))\n",
        "metrics_sim_exp_smoothing = calculate_metrics(y_test, y_pred_sim_exp_smoothing)\n",
        "metrics_sim_exp_smoothing['Model Name'] = 'Simple Exponential Smoothing'\n",
        "results.append(metrics_sim_exp_smoothing)\n",
        "print('Model: Simple Exponential Smoothing', metrics_sim_exp_smoothing)\n",
        "\n",
        "# Auto Regressive Model\n",
        "Auto_regressive = autoreg_model(y_train, y_test)\n",
        "y_pred_autoregressive = Auto_regressive.forecast(len(y_test))\n",
        "metrics_autoregressive = calculate_metrics(y_test, y_pred_autoregressive)\n",
        "metrics_autoregressive['Model Name'] = 'AutoRegressive'\n",
        "results.append(metrics_autoregressive)\n",
        "print('Model: Auto Regressive', metrics_autoregressive)\n",
        "\n",
        "# Autoregressive Poisson\n",
        "poisson_model, metrics_poisson = train_and_evaluate_autoreg_poisson(y_train, y_test)\n",
        "\n",
        "if poisson_model is not None:\n",
        "    print('Poisson Model fitted successfully')\n",
        "    metrics_poisson['Model Name'] = 'Poisson AutoRegressive'\n",
        "    results.append(metrics_poisson)\n",
        "    print('Metrics:', metrics_poisson)\n",
        "else:\n",
        "    print('Model fitting failed')\n",
        "\n",
        "# Autoregressive Negative Binomial\n",
        "negbinom_model, metrics_negative_binomial = train_and_evaluate_autoreg_negbinom(y_train, y_test)\n",
        "\n",
        "if negbinom_model is not None:\n",
        "    print('Negative Binomial Model fitted successfully')\n",
        "    metrics_negative_binomial['Model Name'] = 'Negative Binomial AutoRegressive'\n",
        "    results.append(metrics_negative_binomial)\n",
        "    print('Metrics:', metrics_negative_binomial)\n",
        "else:\n",
        "    print('Model fitting failed')"
      ],
      "metadata": {
        "id": "X-fAkSUChaN7",
        "colab": {
          "base_uri": "https://localhost:8080/"
        },
        "outputId": "a8b1e6ff-b144-456b-9313-d0a4f243a9fa"
      },
      "execution_count": null,
      "outputs": [
        {
          "output_type": "stream",
          "name": "stdout",
          "text": [
            "Model: ARIMA {'MAE': 57.59324916616699, 'RMSE': 76.1345041904307, 'MAPE': 0.32337730300628326, 'Model Name': 'ARIMA'}\n",
            "Model: Exponential Smoothing {'MAE': 775943.6526888608, 'RMSE': 895982.1244695284, 'MAPE': 4664.743906121757, 'Model Name': 'Exponential Smoothing'}\n",
            "Model: Simple Exponential Smoothing {'MAE': 57.750762605991056, 'RMSE': 76.4740212137481, 'MAPE': 0.3222562663255098, 'Model Name': 'Simple Exponential Smoothing'}\n",
            "Model: Auto Regressive {'MAE': 57.6965729559439, 'RMSE': 72.21592123094705, 'MAPE': 0.37510399287795076, 'Model Name': 'AutoRegressive'}\n",
            "Warning: Maximum number of iterations has been exceeded.\n",
            "         Current function value: 2295537725123615551782097815848548389206624168584138027951154452434379335138456208904760376623957187681895358332716401846927826139920108020960022119221035008.000000\n",
            "         Iterations: 35\n",
            "Poisson Model fitted successfully\n",
            "Metrics: {'MAE': 2.3170624008460573e+74, 'RMSE': 2.318645448261235e+74, 'MAPE': 1.4546378017953673e+72, 'Model Name': 'Poisson AutoRegressive'}\n",
            "         Current function value: nan\n",
            "         Iterations: 0\n",
            "         Function evaluations: 1\n",
            "         Gradient evaluations: 1\n",
            "Negative Binomial Model fitted successfully\n",
            "Metrics: {'MAE': 2.3170624008460573e+74, 'RMSE': 2.318645448261235e+74, 'MAPE': 1.4546378017953673e+72, 'Model Name': 'Negative Binomial AutoRegressive'}\n"
          ]
        }
      ]
    },
    {
      "cell_type": "markdown",
      "source": [
        "### Save Results"
      ],
      "metadata": {
        "id": "3iFphxq_rmAf"
      }
    },
    {
      "cell_type": "code",
      "source": [
        "# convert the results into upto 4 decimals\n",
        "def format_results(results):\n",
        "    formatted_results = []\n",
        "    for result in results:\n",
        "        formatted_result = {}\n",
        "        for key, value in result.items():\n",
        "            if isinstance(value, float):  # Check if the value is a float\n",
        "                formatted_result[key] = round(value, 4)\n",
        "            else:\n",
        "                formatted_result[key] = value  # Keep non-float values as is\n",
        "        formatted_results.append(formatted_result)\n",
        "    return formatted_results\n",
        "\n",
        "# Format the results\n",
        "formatted_results = format_results(results)\n",
        "\n",
        "# convert into dataframe\n",
        "ResultDF = pd.DataFrame(formatted_results)"
      ],
      "metadata": {
        "id": "DdBzndF00l3F"
      },
      "execution_count": null,
      "outputs": []
    },
    {
      "cell_type": "code",
      "source": [
        "ResultDF"
      ],
      "metadata": {
        "id": "QGTCZ4U6rjUq",
        "colab": {
          "base_uri": "https://localhost:8080/",
          "height": 237
        },
        "outputId": "97fb3edf-f9c1-47e9-8da8-5cf81087e152"
      },
      "execution_count": null,
      "outputs": [
        {
          "output_type": "execute_result",
          "data": {
            "text/plain": [
              "            MAE          RMSE          MAPE                        Model Name\n",
              "0  5.759320e+01  7.613450e+01  3.234000e-01                             ARIMA\n",
              "1  7.759437e+05  8.959821e+05  4.664744e+03             Exponential Smoothing\n",
              "2  5.775080e+01  7.647400e+01  3.223000e-01      Simple Exponential Smoothing\n",
              "3  5.769660e+01  7.221590e+01  3.751000e-01                    AutoRegressive\n",
              "4  2.317062e+74  2.318645e+74  1.454638e+72            Poisson AutoRegressive\n",
              "5  2.317062e+74  2.318645e+74  1.454638e+72  Negative Binomial AutoRegressive"
            ],
            "text/html": [
              "\n",
              "  <div id=\"df-c1b451c7-b55f-4846-b12b-2737d97772c3\" class=\"colab-df-container\">\n",
              "    <div>\n",
              "<style scoped>\n",
              "    .dataframe tbody tr th:only-of-type {\n",
              "        vertical-align: middle;\n",
              "    }\n",
              "\n",
              "    .dataframe tbody tr th {\n",
              "        vertical-align: top;\n",
              "    }\n",
              "\n",
              "    .dataframe thead th {\n",
              "        text-align: right;\n",
              "    }\n",
              "</style>\n",
              "<table border=\"1\" class=\"dataframe\">\n",
              "  <thead>\n",
              "    <tr style=\"text-align: right;\">\n",
              "      <th></th>\n",
              "      <th>MAE</th>\n",
              "      <th>RMSE</th>\n",
              "      <th>MAPE</th>\n",
              "      <th>Model Name</th>\n",
              "    </tr>\n",
              "  </thead>\n",
              "  <tbody>\n",
              "    <tr>\n",
              "      <th>0</th>\n",
              "      <td>5.759320e+01</td>\n",
              "      <td>7.613450e+01</td>\n",
              "      <td>3.234000e-01</td>\n",
              "      <td>ARIMA</td>\n",
              "    </tr>\n",
              "    <tr>\n",
              "      <th>1</th>\n",
              "      <td>7.759437e+05</td>\n",
              "      <td>8.959821e+05</td>\n",
              "      <td>4.664744e+03</td>\n",
              "      <td>Exponential Smoothing</td>\n",
              "    </tr>\n",
              "    <tr>\n",
              "      <th>2</th>\n",
              "      <td>5.775080e+01</td>\n",
              "      <td>7.647400e+01</td>\n",
              "      <td>3.223000e-01</td>\n",
              "      <td>Simple Exponential Smoothing</td>\n",
              "    </tr>\n",
              "    <tr>\n",
              "      <th>3</th>\n",
              "      <td>5.769660e+01</td>\n",
              "      <td>7.221590e+01</td>\n",
              "      <td>3.751000e-01</td>\n",
              "      <td>AutoRegressive</td>\n",
              "    </tr>\n",
              "    <tr>\n",
              "      <th>4</th>\n",
              "      <td>2.317062e+74</td>\n",
              "      <td>2.318645e+74</td>\n",
              "      <td>1.454638e+72</td>\n",
              "      <td>Poisson AutoRegressive</td>\n",
              "    </tr>\n",
              "    <tr>\n",
              "      <th>5</th>\n",
              "      <td>2.317062e+74</td>\n",
              "      <td>2.318645e+74</td>\n",
              "      <td>1.454638e+72</td>\n",
              "      <td>Negative Binomial AutoRegressive</td>\n",
              "    </tr>\n",
              "  </tbody>\n",
              "</table>\n",
              "</div>\n",
              "    <div class=\"colab-df-buttons\">\n",
              "\n",
              "  <div class=\"colab-df-container\">\n",
              "    <button class=\"colab-df-convert\" onclick=\"convertToInteractive('df-c1b451c7-b55f-4846-b12b-2737d97772c3')\"\n",
              "            title=\"Convert this dataframe to an interactive table.\"\n",
              "            style=\"display:none;\">\n",
              "\n",
              "  <svg xmlns=\"http://www.w3.org/2000/svg\" height=\"24px\" viewBox=\"0 -960 960 960\">\n",
              "    <path d=\"M120-120v-720h720v720H120Zm60-500h600v-160H180v160Zm220 220h160v-160H400v160Zm0 220h160v-160H400v160ZM180-400h160v-160H180v160Zm440 0h160v-160H620v160ZM180-180h160v-160H180v160Zm440 0h160v-160H620v160Z\"/>\n",
              "  </svg>\n",
              "    </button>\n",
              "\n",
              "  <style>\n",
              "    .colab-df-container {\n",
              "      display:flex;\n",
              "      gap: 12px;\n",
              "    }\n",
              "\n",
              "    .colab-df-convert {\n",
              "      background-color: #E8F0FE;\n",
              "      border: none;\n",
              "      border-radius: 50%;\n",
              "      cursor: pointer;\n",
              "      display: none;\n",
              "      fill: #1967D2;\n",
              "      height: 32px;\n",
              "      padding: 0 0 0 0;\n",
              "      width: 32px;\n",
              "    }\n",
              "\n",
              "    .colab-df-convert:hover {\n",
              "      background-color: #E2EBFA;\n",
              "      box-shadow: 0px 1px 2px rgba(60, 64, 67, 0.3), 0px 1px 3px 1px rgba(60, 64, 67, 0.15);\n",
              "      fill: #174EA6;\n",
              "    }\n",
              "\n",
              "    .colab-df-buttons div {\n",
              "      margin-bottom: 4px;\n",
              "    }\n",
              "\n",
              "    [theme=dark] .colab-df-convert {\n",
              "      background-color: #3B4455;\n",
              "      fill: #D2E3FC;\n",
              "    }\n",
              "\n",
              "    [theme=dark] .colab-df-convert:hover {\n",
              "      background-color: #434B5C;\n",
              "      box-shadow: 0px 1px 3px 1px rgba(0, 0, 0, 0.15);\n",
              "      filter: drop-shadow(0px 1px 2px rgba(0, 0, 0, 0.3));\n",
              "      fill: #FFFFFF;\n",
              "    }\n",
              "  </style>\n",
              "\n",
              "    <script>\n",
              "      const buttonEl =\n",
              "        document.querySelector('#df-c1b451c7-b55f-4846-b12b-2737d97772c3 button.colab-df-convert');\n",
              "      buttonEl.style.display =\n",
              "        google.colab.kernel.accessAllowed ? 'block' : 'none';\n",
              "\n",
              "      async function convertToInteractive(key) {\n",
              "        const element = document.querySelector('#df-c1b451c7-b55f-4846-b12b-2737d97772c3');\n",
              "        const dataTable =\n",
              "          await google.colab.kernel.invokeFunction('convertToInteractive',\n",
              "                                                    [key], {});\n",
              "        if (!dataTable) return;\n",
              "\n",
              "        const docLinkHtml = 'Like what you see? Visit the ' +\n",
              "          '<a target=\"_blank\" href=https://colab.research.google.com/notebooks/data_table.ipynb>data table notebook</a>'\n",
              "          + ' to learn more about interactive tables.';\n",
              "        element.innerHTML = '';\n",
              "        dataTable['output_type'] = 'display_data';\n",
              "        await google.colab.output.renderOutput(dataTable, element);\n",
              "        const docLink = document.createElement('div');\n",
              "        docLink.innerHTML = docLinkHtml;\n",
              "        element.appendChild(docLink);\n",
              "      }\n",
              "    </script>\n",
              "  </div>\n",
              "\n",
              "\n",
              "<div id=\"df-19f59f7b-6aff-4425-9e16-fa41b048010f\">\n",
              "  <button class=\"colab-df-quickchart\" onclick=\"quickchart('df-19f59f7b-6aff-4425-9e16-fa41b048010f')\"\n",
              "            title=\"Suggest charts\"\n",
              "            style=\"display:none;\">\n",
              "\n",
              "<svg xmlns=\"http://www.w3.org/2000/svg\" height=\"24px\"viewBox=\"0 0 24 24\"\n",
              "     width=\"24px\">\n",
              "    <g>\n",
              "        <path d=\"M19 3H5c-1.1 0-2 .9-2 2v14c0 1.1.9 2 2 2h14c1.1 0 2-.9 2-2V5c0-1.1-.9-2-2-2zM9 17H7v-7h2v7zm4 0h-2V7h2v10zm4 0h-2v-4h2v4z\"/>\n",
              "    </g>\n",
              "</svg>\n",
              "  </button>\n",
              "\n",
              "<style>\n",
              "  .colab-df-quickchart {\n",
              "      --bg-color: #E8F0FE;\n",
              "      --fill-color: #1967D2;\n",
              "      --hover-bg-color: #E2EBFA;\n",
              "      --hover-fill-color: #174EA6;\n",
              "      --disabled-fill-color: #AAA;\n",
              "      --disabled-bg-color: #DDD;\n",
              "  }\n",
              "\n",
              "  [theme=dark] .colab-df-quickchart {\n",
              "      --bg-color: #3B4455;\n",
              "      --fill-color: #D2E3FC;\n",
              "      --hover-bg-color: #434B5C;\n",
              "      --hover-fill-color: #FFFFFF;\n",
              "      --disabled-bg-color: #3B4455;\n",
              "      --disabled-fill-color: #666;\n",
              "  }\n",
              "\n",
              "  .colab-df-quickchart {\n",
              "    background-color: var(--bg-color);\n",
              "    border: none;\n",
              "    border-radius: 50%;\n",
              "    cursor: pointer;\n",
              "    display: none;\n",
              "    fill: var(--fill-color);\n",
              "    height: 32px;\n",
              "    padding: 0;\n",
              "    width: 32px;\n",
              "  }\n",
              "\n",
              "  .colab-df-quickchart:hover {\n",
              "    background-color: var(--hover-bg-color);\n",
              "    box-shadow: 0 1px 2px rgba(60, 64, 67, 0.3), 0 1px 3px 1px rgba(60, 64, 67, 0.15);\n",
              "    fill: var(--button-hover-fill-color);\n",
              "  }\n",
              "\n",
              "  .colab-df-quickchart-complete:disabled,\n",
              "  .colab-df-quickchart-complete:disabled:hover {\n",
              "    background-color: var(--disabled-bg-color);\n",
              "    fill: var(--disabled-fill-color);\n",
              "    box-shadow: none;\n",
              "  }\n",
              "\n",
              "  .colab-df-spinner {\n",
              "    border: 2px solid var(--fill-color);\n",
              "    border-color: transparent;\n",
              "    border-bottom-color: var(--fill-color);\n",
              "    animation:\n",
              "      spin 1s steps(1) infinite;\n",
              "  }\n",
              "\n",
              "  @keyframes spin {\n",
              "    0% {\n",
              "      border-color: transparent;\n",
              "      border-bottom-color: var(--fill-color);\n",
              "      border-left-color: var(--fill-color);\n",
              "    }\n",
              "    20% {\n",
              "      border-color: transparent;\n",
              "      border-left-color: var(--fill-color);\n",
              "      border-top-color: var(--fill-color);\n",
              "    }\n",
              "    30% {\n",
              "      border-color: transparent;\n",
              "      border-left-color: var(--fill-color);\n",
              "      border-top-color: var(--fill-color);\n",
              "      border-right-color: var(--fill-color);\n",
              "    }\n",
              "    40% {\n",
              "      border-color: transparent;\n",
              "      border-right-color: var(--fill-color);\n",
              "      border-top-color: var(--fill-color);\n",
              "    }\n",
              "    60% {\n",
              "      border-color: transparent;\n",
              "      border-right-color: var(--fill-color);\n",
              "    }\n",
              "    80% {\n",
              "      border-color: transparent;\n",
              "      border-right-color: var(--fill-color);\n",
              "      border-bottom-color: var(--fill-color);\n",
              "    }\n",
              "    90% {\n",
              "      border-color: transparent;\n",
              "      border-bottom-color: var(--fill-color);\n",
              "    }\n",
              "  }\n",
              "</style>\n",
              "\n",
              "  <script>\n",
              "    async function quickchart(key) {\n",
              "      const quickchartButtonEl =\n",
              "        document.querySelector('#' + key + ' button');\n",
              "      quickchartButtonEl.disabled = true;  // To prevent multiple clicks.\n",
              "      quickchartButtonEl.classList.add('colab-df-spinner');\n",
              "      try {\n",
              "        const charts = await google.colab.kernel.invokeFunction(\n",
              "            'suggestCharts', [key], {});\n",
              "      } catch (error) {\n",
              "        console.error('Error during call to suggestCharts:', error);\n",
              "      }\n",
              "      quickchartButtonEl.classList.remove('colab-df-spinner');\n",
              "      quickchartButtonEl.classList.add('colab-df-quickchart-complete');\n",
              "    }\n",
              "    (() => {\n",
              "      let quickchartButtonEl =\n",
              "        document.querySelector('#df-19f59f7b-6aff-4425-9e16-fa41b048010f button');\n",
              "      quickchartButtonEl.style.display =\n",
              "        google.colab.kernel.accessAllowed ? 'block' : 'none';\n",
              "    })();\n",
              "  </script>\n",
              "</div>\n",
              "\n",
              "  <div id=\"id_b64b8bef-e46a-4c9b-8c42-5e1c10966a5e\">\n",
              "    <style>\n",
              "      .colab-df-generate {\n",
              "        background-color: #E8F0FE;\n",
              "        border: none;\n",
              "        border-radius: 50%;\n",
              "        cursor: pointer;\n",
              "        display: none;\n",
              "        fill: #1967D2;\n",
              "        height: 32px;\n",
              "        padding: 0 0 0 0;\n",
              "        width: 32px;\n",
              "      }\n",
              "\n",
              "      .colab-df-generate:hover {\n",
              "        background-color: #E2EBFA;\n",
              "        box-shadow: 0px 1px 2px rgba(60, 64, 67, 0.3), 0px 1px 3px 1px rgba(60, 64, 67, 0.15);\n",
              "        fill: #174EA6;\n",
              "      }\n",
              "\n",
              "      [theme=dark] .colab-df-generate {\n",
              "        background-color: #3B4455;\n",
              "        fill: #D2E3FC;\n",
              "      }\n",
              "\n",
              "      [theme=dark] .colab-df-generate:hover {\n",
              "        background-color: #434B5C;\n",
              "        box-shadow: 0px 1px 3px 1px rgba(0, 0, 0, 0.15);\n",
              "        filter: drop-shadow(0px 1px 2px rgba(0, 0, 0, 0.3));\n",
              "        fill: #FFFFFF;\n",
              "      }\n",
              "    </style>\n",
              "    <button class=\"colab-df-generate\" onclick=\"generateWithVariable('ResultDF')\"\n",
              "            title=\"Generate code using this dataframe.\"\n",
              "            style=\"display:none;\">\n",
              "\n",
              "  <svg xmlns=\"http://www.w3.org/2000/svg\" height=\"24px\"viewBox=\"0 0 24 24\"\n",
              "       width=\"24px\">\n",
              "    <path d=\"M7,19H8.4L18.45,9,17,7.55,7,17.6ZM5,21V16.75L18.45,3.32a2,2,0,0,1,2.83,0l1.4,1.43a1.91,1.91,0,0,1,.58,1.4,1.91,1.91,0,0,1-.58,1.4L9.25,21ZM18.45,9,17,7.55Zm-12,3A5.31,5.31,0,0,0,4.9,8.1,5.31,5.31,0,0,0,1,6.5,5.31,5.31,0,0,0,4.9,4.9,5.31,5.31,0,0,0,6.5,1,5.31,5.31,0,0,0,8.1,4.9,5.31,5.31,0,0,0,12,6.5,5.46,5.46,0,0,0,6.5,12Z\"/>\n",
              "  </svg>\n",
              "    </button>\n",
              "    <script>\n",
              "      (() => {\n",
              "      const buttonEl =\n",
              "        document.querySelector('#id_b64b8bef-e46a-4c9b-8c42-5e1c10966a5e button.colab-df-generate');\n",
              "      buttonEl.style.display =\n",
              "        google.colab.kernel.accessAllowed ? 'block' : 'none';\n",
              "\n",
              "      buttonEl.onclick = () => {\n",
              "        google.colab.notebook.generateWithVariable('ResultDF');\n",
              "      }\n",
              "      })();\n",
              "    </script>\n",
              "  </div>\n",
              "\n",
              "    </div>\n",
              "  </div>\n"
            ],
            "application/vnd.google.colaboratory.intrinsic+json": {
              "type": "dataframe",
              "variable_name": "ResultDF",
              "summary": "{\n  \"name\": \"ResultDF\",\n  \"rows\": 6,\n  \"fields\": [\n    {\n      \"column\": \"MAE\",\n      \"properties\": {\n        \"dtype\": \"number\",\n        \"std\": 1.1965258787466872e+74,\n        \"min\": 57.5932,\n        \"max\": 2.3170624008460573e+74,\n        \"num_unique_values\": 5,\n        \"samples\": [\n          775943.6527,\n          2.3170624008460573e+74,\n          57.7508\n        ],\n        \"semantic_type\": \"\",\n        \"description\": \"\"\n      }\n    },\n    {\n      \"column\": \"RMSE\",\n      \"properties\": {\n        \"dtype\": \"number\",\n        \"std\": 1.197343360916719e+74,\n        \"min\": 72.2159,\n        \"max\": 2.318645448261235e+74,\n        \"num_unique_values\": 5,\n        \"samples\": [\n          895982.1245,\n          2.318645448261235e+74,\n          76.474\n        ],\n        \"semantic_type\": \"\",\n        \"description\": \"\"\n      }\n    },\n    {\n      \"column\": \"MAPE\",\n      \"properties\": {\n        \"dtype\": \"number\",\n        \"std\": 7.511717308156297e+71,\n        \"min\": 0.3223,\n        \"max\": 1.4546378017953673e+72,\n        \"num_unique_values\": 5,\n        \"samples\": [\n          4664.7439,\n          1.4546378017953673e+72,\n          0.3223\n        ],\n        \"semantic_type\": \"\",\n        \"description\": \"\"\n      }\n    },\n    {\n      \"column\": \"Model Name\",\n      \"properties\": {\n        \"dtype\": \"string\",\n        \"num_unique_values\": 6,\n        \"samples\": [\n          \"ARIMA\",\n          \"Exponential Smoothing\",\n          \"Negative Binomial AutoRegressive\"\n        ],\n        \"semantic_type\": \"\",\n        \"description\": \"\"\n      }\n    }\n  ]\n}"
            }
          },
          "metadata": {},
          "execution_count": 9
        }
      ]
    },
    {
      "cell_type": "code",
      "source": [
        "ResultDF.to_csv('/content/drive/MyDrive/Upwork clients/ACCOUNT-CREATOR/DiaTrend Data/Results-NB2-54-50K.csv', index=False)"
      ],
      "metadata": {
        "id": "6vGeCwiyZd7-"
      },
      "execution_count": null,
      "outputs": []
    },
    {
      "cell_type": "code",
      "source": [],
      "metadata": {
        "id": "tGrcjpTuTy1M"
      },
      "execution_count": null,
      "outputs": []
    }
  ]
}