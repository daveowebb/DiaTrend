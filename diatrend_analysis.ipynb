{
  "cells": [
    {
      "cell_type": "code",
      "execution_count": null,
      "metadata": {
        "colab": {
          "base_uri": "https://localhost:8080/"
        },
        "id": "tkGcJP1WOb3S",
        "outputId": "07c55d57-dadc-4cbc-a60e-1c32985013ca"
      },
      "outputs": [
        {
          "name": "stdout",
          "output_type": "stream",
          "text": [
            "Mounted at /content/drive\n"
          ]
        }
      ],
      "source": [
        "from google.colab import drive\n",
        "drive.mount('/content/drive', force_remount=True)"
      ]
    },
    {
      "cell_type": "code",
      "execution_count": null,
      "metadata": {
        "id": "4_Xh_gnNOwpM"
      },
      "outputs": [],
      "source": [
        "import pandas as pd\n",
        "import numpy as np\n",
        "from sklearn.ensemble import RandomForestRegressor\n",
        "from sklearn.metrics import mean_squared_error, mean_absolute_percentage_error, mean_absolute_error\n",
        "import xgboost as xgb\n",
        "from sklearn.impute import SimpleImputer\n",
        "from glob import glob\n",
        "import os\n",
        "from tqdm import tqdm\n",
        "from hyperopt import fmin, tpe, hp, Trials\n",
        "from hyperopt.pyll.base import scope\n",
        "from sklearn.model_selection import train_test_split, GridSearchCV, ParameterGrid\n",
        "from keras.models import Sequential\n",
        "from keras.layers import Input, LSTM, GRU, Dense\n",
        "from keras.optimizers import Adam\n",
        "from prophet import Prophet\n",
        "import gc\n",
        "\n",
        "from sklearn.preprocessing import OneHotEncoder"
      ]
    },
    {
      "cell_type": "code",
      "execution_count": null,
      "metadata": {
        "colab": {
          "base_uri": "https://localhost:8080/"
        },
        "id": "KOCERR1zO2Yd",
        "outputId": "ce737b58-ad70-4a54-a7f9-2ffd8c2a3f48"
      },
      "outputs": [
        {
          "name": "stdout",
          "output_type": "stream",
          "text": [
            "Number of subject files found: 54\n"
          ]
        }
      ],
      "source": [
        "subject_files = glob(\"/content/drive/MyDrive/Sensor Data/*.xlsx\")\n",
        "print(f\"Number of subject files found: {len(subject_files)}\")"
      ]
    },
    {
      "cell_type": "code",
      "execution_count": null,
      "metadata": {
        "id": "kELHQUwvPnyK"
      },
      "outputs": [],
      "source": [
        "class Conf :\n",
        "    # dataloading values\n",
        "    Subjects = 54 # define how many subjects you want to include in processing\n",
        "    CGM_Inputs = 2000 # define how many CGM inputs (rows) to consider for training\n",
        "\n",
        "    # when you set iterator as 5 it would take input as a 6 (always plus one than input)\n",
        "    iterator = 3 # it would be recommended to set less than 10\n",
        "    iterator_deeplearning = 2 # deep learnig take time so set it to less than 5\n"
      ]
    },
    {
      "cell_type": "code",
      "execution_count": null,
      "metadata": {
        "colab": {
          "background_save": true,
          "base_uri": "https://localhost:8080/"
        },
        "id": "3J1WErYyPsdD",
        "outputId": "a2307d2c-b19e-4bbf-eee5-c93e624fb83b"
      },
      "outputs": [
        {
          "name": "stderr",
          "output_type": "stream",
          "text": [
            "\r  0%|          | 0/54 [00:00<?, ?it/s]"
          ]
        },
        {
          "name": "stdout",
          "output_type": "stream",
          "text": [
            "Processing /content/drive/MyDrive/Sensor Data/Subject1.xlsx...\n"
          ]
        },
        {
          "name": "stderr",
          "output_type": "stream",
          "text": [
            "\r  2%|▏         | 1/54 [00:25<22:23, 25.34s/it]"
          ]
        },
        {
          "name": "stdout",
          "output_type": "stream",
          "text": [
            "No lagged data for /content/drive/MyDrive/Sensor Data/Subject1.xlsx\n",
            "Processing /content/drive/MyDrive/Sensor Data/Subject10.xlsx...\n"
          ]
        },
        {
          "name": "stderr",
          "output_type": "stream",
          "text": [
            "\r  4%|▎         | 2/54 [00:41<17:11, 19.84s/it]"
          ]
        },
        {
          "name": "stdout",
          "output_type": "stream",
          "text": [
            "Processing /content/drive/MyDrive/Sensor Data/Subject11.xlsx...\n"
          ]
        },
        {
          "name": "stderr",
          "output_type": "stream",
          "text": [
            "\r  6%|▌         | 3/54 [00:57<15:21, 18.07s/it]"
          ]
        },
        {
          "name": "stdout",
          "output_type": "stream",
          "text": [
            "Processing /content/drive/MyDrive/Sensor Data/Subject12.xlsx...\n"
          ]
        },
        {
          "name": "stderr",
          "output_type": "stream",
          "text": [
            "\r  7%|▋         | 4/54 [01:13<14:20, 17.22s/it]"
          ]
        },
        {
          "name": "stdout",
          "output_type": "stream",
          "text": [
            "Processing /content/drive/MyDrive/Sensor Data/Subject13.xlsx...\n"
          ]
        },
        {
          "name": "stderr",
          "output_type": "stream",
          "text": [
            "\r  9%|▉         | 5/54 [01:26<12:57, 15.86s/it]"
          ]
        },
        {
          "name": "stdout",
          "output_type": "stream",
          "text": [
            "Processing /content/drive/MyDrive/Sensor Data/Subject14.xlsx...\n"
          ]
        },
        {
          "name": "stderr",
          "output_type": "stream",
          "text": [
            "\r 11%|█         | 6/54 [01:38<11:39, 14.57s/it]"
          ]
        },
        {
          "name": "stdout",
          "output_type": "stream",
          "text": [
            "Processing /content/drive/MyDrive/Sensor Data/Subject15.xlsx...\n"
          ]
        },
        {
          "name": "stderr",
          "output_type": "stream",
          "text": [
            "\r 13%|█▎        | 7/54 [01:49<10:21, 13.23s/it]"
          ]
        },
        {
          "name": "stdout",
          "output_type": "stream",
          "text": [
            "Processing /content/drive/MyDrive/Sensor Data/Subject16.xlsx...\n"
          ]
        },
        {
          "name": "stderr",
          "output_type": "stream",
          "text": [
            "\r 15%|█▍        | 8/54 [01:59<09:19, 12.15s/it]"
          ]
        },
        {
          "name": "stdout",
          "output_type": "stream",
          "text": [
            "Processing /content/drive/MyDrive/Sensor Data/Subject17.xlsx...\n"
          ]
        },
        {
          "name": "stderr",
          "output_type": "stream",
          "text": [
            "\r 17%|█▋        | 9/54 [02:10<09:01, 12.04s/it]"
          ]
        },
        {
          "name": "stdout",
          "output_type": "stream",
          "text": [
            "Processing /content/drive/MyDrive/Sensor Data/Subject18.xlsx...\n"
          ]
        },
        {
          "name": "stderr",
          "output_type": "stream",
          "text": [
            "\r 19%|█▊        | 10/54 [02:21<08:25, 11.49s/it]"
          ]
        },
        {
          "name": "stdout",
          "output_type": "stream",
          "text": [
            "Processing /content/drive/MyDrive/Sensor Data/Subject19.xlsx...\n"
          ]
        },
        {
          "name": "stderr",
          "output_type": "stream",
          "text": [
            "\r 20%|██        | 11/54 [02:28<07:18, 10.19s/it]"
          ]
        },
        {
          "name": "stdout",
          "output_type": "stream",
          "text": [
            "Processing /content/drive/MyDrive/Sensor Data/Subject2.xlsx...\n"
          ]
        },
        {
          "name": "stderr",
          "output_type": "stream",
          "text": [
            "\r 22%|██▏       | 12/54 [02:52<10:09, 14.51s/it]"
          ]
        },
        {
          "name": "stdout",
          "output_type": "stream",
          "text": [
            "No lagged data for /content/drive/MyDrive/Sensor Data/Subject2.xlsx\n",
            "Processing /content/drive/MyDrive/Sensor Data/Subject20.xlsx...\n"
          ]
        },
        {
          "name": "stderr",
          "output_type": "stream",
          "text": [
            "\r 24%|██▍       | 13/54 [02:59<08:18, 12.15s/it]"
          ]
        },
        {
          "name": "stdout",
          "output_type": "stream",
          "text": [
            "Processing /content/drive/MyDrive/Sensor Data/Subject21.xlsx...\n"
          ]
        },
        {
          "name": "stderr",
          "output_type": "stream",
          "text": [
            "\r 26%|██▌       | 14/54 [03:06<07:07, 10.69s/it]"
          ]
        },
        {
          "name": "stdout",
          "output_type": "stream",
          "text": [
            "Processing /content/drive/MyDrive/Sensor Data/Subject22.xlsx...\n"
          ]
        },
        {
          "name": "stderr",
          "output_type": "stream",
          "text": [
            "\r 28%|██▊       | 15/54 [03:11<05:50,  8.98s/it]"
          ]
        },
        {
          "name": "stdout",
          "output_type": "stream",
          "text": [
            "Processing /content/drive/MyDrive/Sensor Data/Subject23.xlsx...\n"
          ]
        },
        {
          "name": "stderr",
          "output_type": "stream",
          "text": [
            "\r 30%|██▉       | 16/54 [03:17<05:07,  8.10s/it]"
          ]
        },
        {
          "name": "stdout",
          "output_type": "stream",
          "text": [
            "Processing /content/drive/MyDrive/Sensor Data/Subject24.xlsx...\n"
          ]
        },
        {
          "name": "stderr",
          "output_type": "stream",
          "text": [
            "\r 31%|███▏      | 17/54 [03:21<04:09,  6.74s/it]"
          ]
        },
        {
          "name": "stdout",
          "output_type": "stream",
          "text": [
            "Processing /content/drive/MyDrive/Sensor Data/Subject25.xlsx...\n"
          ]
        },
        {
          "name": "stderr",
          "output_type": "stream",
          "text": [
            "\r 33%|███▎      | 18/54 [03:26<03:46,  6.29s/it]"
          ]
        },
        {
          "name": "stdout",
          "output_type": "stream",
          "text": [
            "Processing /content/drive/MyDrive/Sensor Data/Subject26.xlsx...\n"
          ]
        },
        {
          "name": "stderr",
          "output_type": "stream",
          "text": [
            "\r 35%|███▌      | 19/54 [03:32<03:31,  6.03s/it]"
          ]
        },
        {
          "name": "stdout",
          "output_type": "stream",
          "text": [
            "Processing /content/drive/MyDrive/Sensor Data/Subject27.xlsx...\n"
          ]
        },
        {
          "name": "stderr",
          "output_type": "stream",
          "text": [
            "\r 37%|███▋      | 20/54 [03:35<02:55,  5.15s/it]"
          ]
        },
        {
          "name": "stdout",
          "output_type": "stream",
          "text": [
            "Processing /content/drive/MyDrive/Sensor Data/Subject28.xlsx...\n"
          ]
        },
        {
          "name": "stderr",
          "output_type": "stream",
          "text": [
            "\r 39%|███▉      | 21/54 [03:38<02:36,  4.73s/it]"
          ]
        },
        {
          "name": "stdout",
          "output_type": "stream",
          "text": [
            "Processing /content/drive/MyDrive/Sensor Data/Subject29.xlsx...\n"
          ]
        },
        {
          "name": "stderr",
          "output_type": "stream",
          "text": [
            "\r 41%|████      | 22/54 [03:41<02:08,  4.03s/it]"
          ]
        },
        {
          "name": "stdout",
          "output_type": "stream",
          "text": [
            "Processing /content/drive/MyDrive/Sensor Data/Subject3.xlsx...\n"
          ]
        },
        {
          "name": "stderr",
          "output_type": "stream",
          "text": [
            "\r 43%|████▎     | 23/54 [04:02<04:48,  9.31s/it]"
          ]
        },
        {
          "name": "stdout",
          "output_type": "stream",
          "text": [
            "No lagged data for /content/drive/MyDrive/Sensor Data/Subject3.xlsx\n",
            "Processing /content/drive/MyDrive/Sensor Data/Subject30.xlsx...\n"
          ]
        },
        {
          "name": "stderr",
          "output_type": "stream",
          "text": [
            "\r 44%|████▍     | 24/54 [04:05<03:34,  7.14s/it]"
          ]
        },
        {
          "name": "stdout",
          "output_type": "stream",
          "text": [
            "Processing /content/drive/MyDrive/Sensor Data/Subject31.xlsx...\n"
          ]
        },
        {
          "name": "stderr",
          "output_type": "stream",
          "text": [
            "\r 46%|████▋     | 25/54 [04:07<02:43,  5.65s/it]"
          ]
        },
        {
          "name": "stdout",
          "output_type": "stream",
          "text": [
            "Processing /content/drive/MyDrive/Sensor Data/Subject32.xlsx...\n"
          ]
        },
        {
          "name": "stderr",
          "output_type": "stream",
          "text": [
            "\r 48%|████▊     | 26/54 [04:09<02:05,  4.49s/it]"
          ]
        },
        {
          "name": "stdout",
          "output_type": "stream",
          "text": [
            "Processing /content/drive/MyDrive/Sensor Data/Subject33.xlsx...\n"
          ]
        },
        {
          "name": "stderr",
          "output_type": "stream",
          "text": [
            "\r 50%|█████     | 27/54 [04:11<01:48,  4.01s/it]"
          ]
        },
        {
          "name": "stdout",
          "output_type": "stream",
          "text": [
            "Processing /content/drive/MyDrive/Sensor Data/Subject34.xlsx...\n"
          ]
        },
        {
          "name": "stderr",
          "output_type": "stream",
          "text": [
            "\r 52%|█████▏    | 28/54 [04:14<01:32,  3.56s/it]"
          ]
        },
        {
          "name": "stdout",
          "output_type": "stream",
          "text": [
            "Processing /content/drive/MyDrive/Sensor Data/Subject35.xlsx...\n"
          ]
        },
        {
          "name": "stderr",
          "output_type": "stream",
          "text": [
            "\r 54%|█████▎    | 29/54 [04:16<01:16,  3.08s/it]"
          ]
        },
        {
          "name": "stdout",
          "output_type": "stream",
          "text": [
            "Processing /content/drive/MyDrive/Sensor Data/Subject36.xlsx...\n"
          ]
        },
        {
          "name": "stderr",
          "output_type": "stream",
          "text": [
            "\r 56%|█████▌    | 30/54 [04:17<01:00,  2.51s/it]"
          ]
        },
        {
          "name": "stdout",
          "output_type": "stream",
          "text": [
            "Processing /content/drive/MyDrive/Sensor Data/Subject37.xlsx...\n"
          ]
        },
        {
          "name": "stderr",
          "output_type": "stream",
          "text": [
            "\r 57%|█████▋    | 31/54 [04:19<00:50,  2.20s/it]"
          ]
        },
        {
          "name": "stdout",
          "output_type": "stream",
          "text": [
            "Processing /content/drive/MyDrive/Sensor Data/Subject38.xlsx...\n"
          ]
        },
        {
          "name": "stderr",
          "output_type": "stream",
          "text": [
            "\r 59%|█████▉    | 32/54 [04:20<00:43,  1.99s/it]"
          ]
        },
        {
          "name": "stdout",
          "output_type": "stream",
          "text": [
            "Processing /content/drive/MyDrive/Sensor Data/Subject39.xlsx...\n"
          ]
        },
        {
          "name": "stderr",
          "output_type": "stream",
          "text": [
            "\r 61%|██████    | 33/54 [04:21<00:36,  1.74s/it]"
          ]
        },
        {
          "name": "stdout",
          "output_type": "stream",
          "text": [
            "Processing /content/drive/MyDrive/Sensor Data/Subject4.xlsx...\n"
          ]
        },
        {
          "name": "stderr",
          "output_type": "stream",
          "text": [
            "\r 63%|██████▎   | 34/54 [04:46<02:52,  8.64s/it]"
          ]
        },
        {
          "name": "stdout",
          "output_type": "stream",
          "text": [
            "Processing /content/drive/MyDrive/Sensor Data/Subject40.xlsx...\n"
          ]
        },
        {
          "name": "stderr",
          "output_type": "stream",
          "text": [
            "\r 65%|██████▍   | 35/54 [04:47<02:01,  6.40s/it]"
          ]
        },
        {
          "name": "stdout",
          "output_type": "stream",
          "text": [
            "Processing /content/drive/MyDrive/Sensor Data/Subject41.xlsx...\n"
          ]
        },
        {
          "name": "stderr",
          "output_type": "stream",
          "text": [
            "\r 67%|██████▋   | 36/54 [04:48<01:27,  4.89s/it]"
          ]
        },
        {
          "name": "stdout",
          "output_type": "stream",
          "text": [
            "Processing /content/drive/MyDrive/Sensor Data/Subject42.xlsx...\n"
          ]
        },
        {
          "name": "stderr",
          "output_type": "stream",
          "text": [
            "\r 69%|██████▊   | 37/54 [04:49<01:03,  3.72s/it]"
          ]
        },
        {
          "name": "stdout",
          "output_type": "stream",
          "text": [
            "Processing /content/drive/MyDrive/Sensor Data/Subject43.xlsx...\n"
          ]
        },
        {
          "name": "stderr",
          "output_type": "stream",
          "text": [
            "\r 70%|███████   | 38/54 [04:50<00:45,  2.87s/it]"
          ]
        },
        {
          "name": "stdout",
          "output_type": "stream",
          "text": [
            "Processing /content/drive/MyDrive/Sensor Data/Subject44.xlsx...\n"
          ]
        },
        {
          "name": "stderr",
          "output_type": "stream",
          "text": [
            "\r 72%|███████▏  | 39/54 [04:52<00:35,  2.38s/it]"
          ]
        },
        {
          "name": "stdout",
          "output_type": "stream",
          "text": [
            "Processing /content/drive/MyDrive/Sensor Data/Subject45.xlsx...\n"
          ]
        },
        {
          "name": "stderr",
          "output_type": "stream",
          "text": [
            "\r 74%|███████▍  | 40/54 [04:52<00:26,  1.88s/it]"
          ]
        },
        {
          "name": "stdout",
          "output_type": "stream",
          "text": [
            "Processing /content/drive/MyDrive/Sensor Data/Subject46.xlsx...\n"
          ]
        },
        {
          "name": "stderr",
          "output_type": "stream",
          "text": [
            "\r 76%|███████▌  | 41/54 [04:53<00:19,  1.51s/it]"
          ]
        },
        {
          "name": "stdout",
          "output_type": "stream",
          "text": [
            "Processing /content/drive/MyDrive/Sensor Data/Subject47.xlsx...\n"
          ]
        },
        {
          "name": "stderr",
          "output_type": "stream",
          "text": [
            "\r 78%|███████▊  | 42/54 [04:54<00:17,  1.42s/it]"
          ]
        },
        {
          "name": "stdout",
          "output_type": "stream",
          "text": [
            "Processing /content/drive/MyDrive/Sensor Data/Subject48.xlsx...\n"
          ]
        },
        {
          "name": "stderr",
          "output_type": "stream",
          "text": [
            "\r 80%|███████▉  | 43/54 [04:55<00:14,  1.30s/it]"
          ]
        },
        {
          "name": "stdout",
          "output_type": "stream",
          "text": [
            "Processing /content/drive/MyDrive/Sensor Data/Subject49.xlsx...\n"
          ]
        },
        {
          "name": "stderr",
          "output_type": "stream",
          "text": [
            "\r 81%|████████▏ | 44/54 [04:56<00:11,  1.17s/it]"
          ]
        },
        {
          "name": "stdout",
          "output_type": "stream",
          "text": [
            "Processing /content/drive/MyDrive/Sensor Data/Subject5.xlsx...\n"
          ]
        },
        {
          "name": "stderr",
          "output_type": "stream",
          "text": [
            "\r 83%|████████▎ | 45/54 [05:17<01:05,  7.25s/it]"
          ]
        },
        {
          "name": "stdout",
          "output_type": "stream",
          "text": [
            "Processing /content/drive/MyDrive/Sensor Data/Subject50.xlsx...\n"
          ]
        },
        {
          "name": "stderr",
          "output_type": "stream",
          "text": [
            "\r 85%|████████▌ | 46/54 [05:18<00:41,  5.21s/it]"
          ]
        },
        {
          "name": "stdout",
          "output_type": "stream",
          "text": [
            "Processing /content/drive/MyDrive/Sensor Data/Subject51.xlsx...\n"
          ]
        },
        {
          "name": "stderr",
          "output_type": "stream",
          "text": [
            "\r 87%|████████▋ | 47/54 [05:18<00:26,  3.79s/it]"
          ]
        },
        {
          "name": "stdout",
          "output_type": "stream",
          "text": [
            "Processing /content/drive/MyDrive/Sensor Data/Subject52.xlsx...\n"
          ]
        },
        {
          "name": "stderr",
          "output_type": "stream",
          "text": [
            "\r 89%|████████▉ | 48/54 [05:19<00:16,  2.78s/it]"
          ]
        },
        {
          "name": "stdout",
          "output_type": "stream",
          "text": [
            "Processing /content/drive/MyDrive/Sensor Data/Subject53.xlsx...\n"
          ]
        },
        {
          "name": "stderr",
          "output_type": "stream",
          "text": [
            "\r 91%|█████████ | 49/54 [05:19<00:10,  2.08s/it]"
          ]
        },
        {
          "name": "stdout",
          "output_type": "stream",
          "text": [
            "Processing /content/drive/MyDrive/Sensor Data/Subject54.xlsx...\n"
          ]
        },
        {
          "name": "stderr",
          "output_type": "stream",
          "text": [
            "\r 93%|█████████▎| 50/54 [05:20<00:06,  1.58s/it]"
          ]
        },
        {
          "name": "stdout",
          "output_type": "stream",
          "text": [
            "Processing /content/drive/MyDrive/Sensor Data/Subject6.xlsx...\n"
          ]
        },
        {
          "name": "stderr",
          "output_type": "stream",
          "text": [
            "\r 94%|█████████▍| 51/54 [05:41<00:22,  7.64s/it]"
          ]
        },
        {
          "name": "stdout",
          "output_type": "stream",
          "text": [
            "Processing /content/drive/MyDrive/Sensor Data/Subject7.xlsx...\n"
          ]
        },
        {
          "name": "stderr",
          "output_type": "stream",
          "text": [
            "\r 96%|█████████▋| 52/54 [06:02<00:22, 11.46s/it]"
          ]
        },
        {
          "name": "stdout",
          "output_type": "stream",
          "text": [
            "Processing /content/drive/MyDrive/Sensor Data/Subject8.xlsx...\n"
          ]
        },
        {
          "name": "stderr",
          "output_type": "stream",
          "text": [
            "\r 98%|█████████▊| 53/54 [06:20<00:13, 13.42s/it]"
          ]
        },
        {
          "name": "stdout",
          "output_type": "stream",
          "text": [
            "Processing /content/drive/MyDrive/Sensor Data/Subject9.xlsx...\n"
          ]
        },
        {
          "name": "stderr",
          "output_type": "stream",
          "text": [
            "100%|██████████| 54/54 [06:38<00:00,  7.38s/it]\n"
          ]
        }
      ],
      "source": [
        "# Updated create_lag_features function\n",
        "def create_lag_features(df, column, lags):\n",
        "    df = df.copy()\n",
        "    for lag in lags:\n",
        "        df[f'{column}_lag_{lag}'] = df.groupby('subjectID')[column].shift(lag)\n",
        "    return df\n",
        "\n",
        "# Updated loop to process subject files\n",
        "all_data = []\n",
        "\n",
        "for subject_file in tqdm(sorted(subject_files)[:min(Conf.Subjects, len(subject_files))]):\n",
        "    try:\n",
        "        print(f\"Processing {subject_file}...\")\n",
        "\n",
        "        # Load CGM and Bolus data\n",
        "        cgm_data = pd.read_excel(subject_file, sheet_name='CGM', parse_dates=['date'])\n",
        "        bolus_data = pd.read_excel(subject_file, sheet_name='Bolus', parse_dates=['date'])\n",
        "\n",
        "        # Ensure 'date' columns are datetime64[ns]\n",
        "        cgm_data['date'] = pd.to_datetime(cgm_data['date'], errors='coerce')\n",
        "        bolus_data['date'] = pd.to_datetime(bolus_data['date'], errors='coerce')\n",
        "\n",
        "        # Drop rows with invalid dates\n",
        "        cgm_data.dropna(subset=['date'], inplace=True)\n",
        "        bolus_data.dropna(subset=['date'], inplace=True)\n",
        "\n",
        "        # Check for issues in date parsing\n",
        "        if cgm_data['date'].dtype != 'datetime64[ns]' or bolus_data['date'].dtype != 'datetime64[ns]':\n",
        "            raise ValueError(f\"Date parsing failed for {subject_file}\")\n",
        "\n",
        "        # Sort data by 'date'\n",
        "        cgm_data.sort_values('date', inplace=True)\n",
        "        bolus_data.sort_values('date', inplace=True)\n",
        "\n",
        "        # Merge data\n",
        "        merged_data = pd.merge_asof(cgm_data, bolus_data, on='date', direction='nearest')\n",
        "\n",
        "        # Ensure lagged features are created per subject\n",
        "        merged_data['subjectID'] = os.path.basename(subject_file).replace(\"Subject\", \"\").replace(\".xlsx\", \"\")\n",
        "        lagged_data = create_lag_features(merged_data, 'mg/dl', lags=[1, 2, 3, 4, 5])\n",
        "        lagged_data.dropna(inplace=True)\n",
        "\n",
        "        if lagged_data.empty:\n",
        "            print(f\"No lagged data for {subject_file}\")\n",
        "            continue\n",
        "\n",
        "        all_data.append(lagged_data)  # Append full data without slicing\n",
        "\n",
        "    except Exception as ex:\n",
        "        print(f\"Error with {subject_file}: {ex}\")"
      ]
    },
    {
      "cell_type": "code",
      "execution_count": 40,
      "metadata": {
        "colab": {
          "base_uri": "https://localhost:8080/"
        },
        "id": "CBTXn5HeTNW8",
        "outputId": "81a292b2-47eb-4771-f7cd-4e09458cc523"
      },
      "outputs": [
        {
          "output_type": "stream",
          "name": "stdout",
          "text": [
            "Final Dataset Shape: (96838, 16)\n",
            "       normal  carbInput  insulinCarbRatio  bgInput  recommended.carb  \\\n",
            "96833    7.96       41.0               7.0    204.0              5.86   \n",
            "96834    7.96       41.0               7.0    204.0              5.86   \n",
            "96835    7.96       41.0               7.0    204.0              5.86   \n",
            "96836    7.96       41.0               7.0    204.0              5.86   \n",
            "96837    7.96       41.0               7.0    204.0              5.86   \n",
            "\n",
            "       recommended.net  recommended.correction  insulinSensitivityFactor  \\\n",
            "96833             7.96                     2.1                      40.0   \n",
            "96834             7.96                     2.1                      40.0   \n",
            "96835             7.96                     2.1                      40.0   \n",
            "96836             7.96                     2.1                      40.0   \n",
            "96837             7.96                     2.1                      40.0   \n",
            "\n",
            "       targetBloodGlucose  insulinOnBoard subjectID  mg/dl_lag_1  mg/dl_lag_2  \\\n",
            "96833               110.0           0.255         9        204.0        204.0   \n",
            "96834               110.0           0.255         9        198.0        204.0   \n",
            "96835               110.0           0.255         9        198.0        198.0   \n",
            "96836               110.0           0.255         9        206.0        198.0   \n",
            "96837               110.0           0.255         9        206.0        206.0   \n",
            "\n",
            "       mg/dl_lag_3  mg/dl_lag_4  mg/dl_lag_5  \n",
            "96833        150.0        150.0        133.0  \n",
            "96834        204.0        150.0        150.0  \n",
            "96835        204.0        204.0        150.0  \n",
            "96836        198.0        204.0        204.0  \n",
            "96837        198.0        198.0        204.0  \n"
          ]
        }
      ],
      "source": [
        "if all_data:\n",
        "    final_data = pd.concat(all_data, axis=0).reset_index(drop=True)\n",
        "    final_data = final_data.groupby('subjectID').head(2000).reset_index(drop=True)\n",
        "\n",
        "    # No need to one-hot encode subjectID, it's enough to keep it as a categorical column\n",
        "    # Leave subjectID as a column and drop it from features later if not needed\n",
        "    X = final_data.drop(columns=['date', 'mg/dl'])\n",
        "    y = final_data['mg/dl']\n",
        "\n",
        "    print(\"Final Dataset Shape:\", X.shape)\n",
        "    print(X.tail())"
      ]
    },
    {
      "cell_type": "code",
      "execution_count": 41,
      "metadata": {
        "colab": {
          "base_uri": "https://localhost:8080/",
          "height": 226
        },
        "id": "HVVucdocTjKr",
        "outputId": "ddc54cbc-b7d1-4df6-b4a1-b66b65c8f590"
      },
      "outputs": [
        {
          "output_type": "execute_result",
          "data": {
            "text/plain": [
              "       normal  carbInput  insulinCarbRatio  bgInput  recommended.carb  \\\n",
              "96833    7.96       41.0               7.0    204.0              5.86   \n",
              "96834    7.96       41.0               7.0    204.0              5.86   \n",
              "96835    7.96       41.0               7.0    204.0              5.86   \n",
              "96836    7.96       41.0               7.0    204.0              5.86   \n",
              "96837    7.96       41.0               7.0    204.0              5.86   \n",
              "\n",
              "       recommended.net  recommended.correction  insulinSensitivityFactor  \\\n",
              "96833             7.96                     2.1                      40.0   \n",
              "96834             7.96                     2.1                      40.0   \n",
              "96835             7.96                     2.1                      40.0   \n",
              "96836             7.96                     2.1                      40.0   \n",
              "96837             7.96                     2.1                      40.0   \n",
              "\n",
              "       targetBloodGlucose  insulinOnBoard subjectID  mg/dl_lag_1  mg/dl_lag_2  \\\n",
              "96833               110.0           0.255         9        204.0        204.0   \n",
              "96834               110.0           0.255         9        198.0        204.0   \n",
              "96835               110.0           0.255         9        198.0        198.0   \n",
              "96836               110.0           0.255         9        206.0        198.0   \n",
              "96837               110.0           0.255         9        206.0        206.0   \n",
              "\n",
              "       mg/dl_lag_3  mg/dl_lag_4  mg/dl_lag_5  \n",
              "96833        150.0        150.0        133.0  \n",
              "96834        204.0        150.0        150.0  \n",
              "96835        204.0        204.0        150.0  \n",
              "96836        198.0        204.0        204.0  \n",
              "96837        198.0        198.0        204.0  "
            ],
            "text/html": [
              "\n",
              "  <div id=\"df-ea31b261-06aa-40d0-90ab-ca0697c0a614\" class=\"colab-df-container\">\n",
              "    <div>\n",
              "<style scoped>\n",
              "    .dataframe tbody tr th:only-of-type {\n",
              "        vertical-align: middle;\n",
              "    }\n",
              "\n",
              "    .dataframe tbody tr th {\n",
              "        vertical-align: top;\n",
              "    }\n",
              "\n",
              "    .dataframe thead th {\n",
              "        text-align: right;\n",
              "    }\n",
              "</style>\n",
              "<table border=\"1\" class=\"dataframe\">\n",
              "  <thead>\n",
              "    <tr style=\"text-align: right;\">\n",
              "      <th></th>\n",
              "      <th>normal</th>\n",
              "      <th>carbInput</th>\n",
              "      <th>insulinCarbRatio</th>\n",
              "      <th>bgInput</th>\n",
              "      <th>recommended.carb</th>\n",
              "      <th>recommended.net</th>\n",
              "      <th>recommended.correction</th>\n",
              "      <th>insulinSensitivityFactor</th>\n",
              "      <th>targetBloodGlucose</th>\n",
              "      <th>insulinOnBoard</th>\n",
              "      <th>subjectID</th>\n",
              "      <th>mg/dl_lag_1</th>\n",
              "      <th>mg/dl_lag_2</th>\n",
              "      <th>mg/dl_lag_3</th>\n",
              "      <th>mg/dl_lag_4</th>\n",
              "      <th>mg/dl_lag_5</th>\n",
              "    </tr>\n",
              "  </thead>\n",
              "  <tbody>\n",
              "    <tr>\n",
              "      <th>96833</th>\n",
              "      <td>7.96</td>\n",
              "      <td>41.0</td>\n",
              "      <td>7.0</td>\n",
              "      <td>204.0</td>\n",
              "      <td>5.86</td>\n",
              "      <td>7.96</td>\n",
              "      <td>2.1</td>\n",
              "      <td>40.0</td>\n",
              "      <td>110.0</td>\n",
              "      <td>0.255</td>\n",
              "      <td>9</td>\n",
              "      <td>204.0</td>\n",
              "      <td>204.0</td>\n",
              "      <td>150.0</td>\n",
              "      <td>150.0</td>\n",
              "      <td>133.0</td>\n",
              "    </tr>\n",
              "    <tr>\n",
              "      <th>96834</th>\n",
              "      <td>7.96</td>\n",
              "      <td>41.0</td>\n",
              "      <td>7.0</td>\n",
              "      <td>204.0</td>\n",
              "      <td>5.86</td>\n",
              "      <td>7.96</td>\n",
              "      <td>2.1</td>\n",
              "      <td>40.0</td>\n",
              "      <td>110.0</td>\n",
              "      <td>0.255</td>\n",
              "      <td>9</td>\n",
              "      <td>198.0</td>\n",
              "      <td>204.0</td>\n",
              "      <td>204.0</td>\n",
              "      <td>150.0</td>\n",
              "      <td>150.0</td>\n",
              "    </tr>\n",
              "    <tr>\n",
              "      <th>96835</th>\n",
              "      <td>7.96</td>\n",
              "      <td>41.0</td>\n",
              "      <td>7.0</td>\n",
              "      <td>204.0</td>\n",
              "      <td>5.86</td>\n",
              "      <td>7.96</td>\n",
              "      <td>2.1</td>\n",
              "      <td>40.0</td>\n",
              "      <td>110.0</td>\n",
              "      <td>0.255</td>\n",
              "      <td>9</td>\n",
              "      <td>198.0</td>\n",
              "      <td>198.0</td>\n",
              "      <td>204.0</td>\n",
              "      <td>204.0</td>\n",
              "      <td>150.0</td>\n",
              "    </tr>\n",
              "    <tr>\n",
              "      <th>96836</th>\n",
              "      <td>7.96</td>\n",
              "      <td>41.0</td>\n",
              "      <td>7.0</td>\n",
              "      <td>204.0</td>\n",
              "      <td>5.86</td>\n",
              "      <td>7.96</td>\n",
              "      <td>2.1</td>\n",
              "      <td>40.0</td>\n",
              "      <td>110.0</td>\n",
              "      <td>0.255</td>\n",
              "      <td>9</td>\n",
              "      <td>206.0</td>\n",
              "      <td>198.0</td>\n",
              "      <td>198.0</td>\n",
              "      <td>204.0</td>\n",
              "      <td>204.0</td>\n",
              "    </tr>\n",
              "    <tr>\n",
              "      <th>96837</th>\n",
              "      <td>7.96</td>\n",
              "      <td>41.0</td>\n",
              "      <td>7.0</td>\n",
              "      <td>204.0</td>\n",
              "      <td>5.86</td>\n",
              "      <td>7.96</td>\n",
              "      <td>2.1</td>\n",
              "      <td>40.0</td>\n",
              "      <td>110.0</td>\n",
              "      <td>0.255</td>\n",
              "      <td>9</td>\n",
              "      <td>206.0</td>\n",
              "      <td>206.0</td>\n",
              "      <td>198.0</td>\n",
              "      <td>198.0</td>\n",
              "      <td>204.0</td>\n",
              "    </tr>\n",
              "  </tbody>\n",
              "</table>\n",
              "</div>\n",
              "    <div class=\"colab-df-buttons\">\n",
              "\n",
              "  <div class=\"colab-df-container\">\n",
              "    <button class=\"colab-df-convert\" onclick=\"convertToInteractive('df-ea31b261-06aa-40d0-90ab-ca0697c0a614')\"\n",
              "            title=\"Convert this dataframe to an interactive table.\"\n",
              "            style=\"display:none;\">\n",
              "\n",
              "  <svg xmlns=\"http://www.w3.org/2000/svg\" height=\"24px\" viewBox=\"0 -960 960 960\">\n",
              "    <path d=\"M120-120v-720h720v720H120Zm60-500h600v-160H180v160Zm220 220h160v-160H400v160Zm0 220h160v-160H400v160ZM180-400h160v-160H180v160Zm440 0h160v-160H620v160ZM180-180h160v-160H180v160Zm440 0h160v-160H620v160Z\"/>\n",
              "  </svg>\n",
              "    </button>\n",
              "\n",
              "  <style>\n",
              "    .colab-df-container {\n",
              "      display:flex;\n",
              "      gap: 12px;\n",
              "    }\n",
              "\n",
              "    .colab-df-convert {\n",
              "      background-color: #E8F0FE;\n",
              "      border: none;\n",
              "      border-radius: 50%;\n",
              "      cursor: pointer;\n",
              "      display: none;\n",
              "      fill: #1967D2;\n",
              "      height: 32px;\n",
              "      padding: 0 0 0 0;\n",
              "      width: 32px;\n",
              "    }\n",
              "\n",
              "    .colab-df-convert:hover {\n",
              "      background-color: #E2EBFA;\n",
              "      box-shadow: 0px 1px 2px rgba(60, 64, 67, 0.3), 0px 1px 3px 1px rgba(60, 64, 67, 0.15);\n",
              "      fill: #174EA6;\n",
              "    }\n",
              "\n",
              "    .colab-df-buttons div {\n",
              "      margin-bottom: 4px;\n",
              "    }\n",
              "\n",
              "    [theme=dark] .colab-df-convert {\n",
              "      background-color: #3B4455;\n",
              "      fill: #D2E3FC;\n",
              "    }\n",
              "\n",
              "    [theme=dark] .colab-df-convert:hover {\n",
              "      background-color: #434B5C;\n",
              "      box-shadow: 0px 1px 3px 1px rgba(0, 0, 0, 0.15);\n",
              "      filter: drop-shadow(0px 1px 2px rgba(0, 0, 0, 0.3));\n",
              "      fill: #FFFFFF;\n",
              "    }\n",
              "  </style>\n",
              "\n",
              "    <script>\n",
              "      const buttonEl =\n",
              "        document.querySelector('#df-ea31b261-06aa-40d0-90ab-ca0697c0a614 button.colab-df-convert');\n",
              "      buttonEl.style.display =\n",
              "        google.colab.kernel.accessAllowed ? 'block' : 'none';\n",
              "\n",
              "      async function convertToInteractive(key) {\n",
              "        const element = document.querySelector('#df-ea31b261-06aa-40d0-90ab-ca0697c0a614');\n",
              "        const dataTable =\n",
              "          await google.colab.kernel.invokeFunction('convertToInteractive',\n",
              "                                                    [key], {});\n",
              "        if (!dataTable) return;\n",
              "\n",
              "        const docLinkHtml = 'Like what you see? Visit the ' +\n",
              "          '<a target=\"_blank\" href=https://colab.research.google.com/notebooks/data_table.ipynb>data table notebook</a>'\n",
              "          + ' to learn more about interactive tables.';\n",
              "        element.innerHTML = '';\n",
              "        dataTable['output_type'] = 'display_data';\n",
              "        await google.colab.output.renderOutput(dataTable, element);\n",
              "        const docLink = document.createElement('div');\n",
              "        docLink.innerHTML = docLinkHtml;\n",
              "        element.appendChild(docLink);\n",
              "      }\n",
              "    </script>\n",
              "  </div>\n",
              "\n",
              "\n",
              "<div id=\"df-84812b5a-178f-49cb-ab22-713fea6b0bf5\">\n",
              "  <button class=\"colab-df-quickchart\" onclick=\"quickchart('df-84812b5a-178f-49cb-ab22-713fea6b0bf5')\"\n",
              "            title=\"Suggest charts\"\n",
              "            style=\"display:none;\">\n",
              "\n",
              "<svg xmlns=\"http://www.w3.org/2000/svg\" height=\"24px\"viewBox=\"0 0 24 24\"\n",
              "     width=\"24px\">\n",
              "    <g>\n",
              "        <path d=\"M19 3H5c-1.1 0-2 .9-2 2v14c0 1.1.9 2 2 2h14c1.1 0 2-.9 2-2V5c0-1.1-.9-2-2-2zM9 17H7v-7h2v7zm4 0h-2V7h2v10zm4 0h-2v-4h2v4z\"/>\n",
              "    </g>\n",
              "</svg>\n",
              "  </button>\n",
              "\n",
              "<style>\n",
              "  .colab-df-quickchart {\n",
              "      --bg-color: #E8F0FE;\n",
              "      --fill-color: #1967D2;\n",
              "      --hover-bg-color: #E2EBFA;\n",
              "      --hover-fill-color: #174EA6;\n",
              "      --disabled-fill-color: #AAA;\n",
              "      --disabled-bg-color: #DDD;\n",
              "  }\n",
              "\n",
              "  [theme=dark] .colab-df-quickchart {\n",
              "      --bg-color: #3B4455;\n",
              "      --fill-color: #D2E3FC;\n",
              "      --hover-bg-color: #434B5C;\n",
              "      --hover-fill-color: #FFFFFF;\n",
              "      --disabled-bg-color: #3B4455;\n",
              "      --disabled-fill-color: #666;\n",
              "  }\n",
              "\n",
              "  .colab-df-quickchart {\n",
              "    background-color: var(--bg-color);\n",
              "    border: none;\n",
              "    border-radius: 50%;\n",
              "    cursor: pointer;\n",
              "    display: none;\n",
              "    fill: var(--fill-color);\n",
              "    height: 32px;\n",
              "    padding: 0;\n",
              "    width: 32px;\n",
              "  }\n",
              "\n",
              "  .colab-df-quickchart:hover {\n",
              "    background-color: var(--hover-bg-color);\n",
              "    box-shadow: 0 1px 2px rgba(60, 64, 67, 0.3), 0 1px 3px 1px rgba(60, 64, 67, 0.15);\n",
              "    fill: var(--button-hover-fill-color);\n",
              "  }\n",
              "\n",
              "  .colab-df-quickchart-complete:disabled,\n",
              "  .colab-df-quickchart-complete:disabled:hover {\n",
              "    background-color: var(--disabled-bg-color);\n",
              "    fill: var(--disabled-fill-color);\n",
              "    box-shadow: none;\n",
              "  }\n",
              "\n",
              "  .colab-df-spinner {\n",
              "    border: 2px solid var(--fill-color);\n",
              "    border-color: transparent;\n",
              "    border-bottom-color: var(--fill-color);\n",
              "    animation:\n",
              "      spin 1s steps(1) infinite;\n",
              "  }\n",
              "\n",
              "  @keyframes spin {\n",
              "    0% {\n",
              "      border-color: transparent;\n",
              "      border-bottom-color: var(--fill-color);\n",
              "      border-left-color: var(--fill-color);\n",
              "    }\n",
              "    20% {\n",
              "      border-color: transparent;\n",
              "      border-left-color: var(--fill-color);\n",
              "      border-top-color: var(--fill-color);\n",
              "    }\n",
              "    30% {\n",
              "      border-color: transparent;\n",
              "      border-left-color: var(--fill-color);\n",
              "      border-top-color: var(--fill-color);\n",
              "      border-right-color: var(--fill-color);\n",
              "    }\n",
              "    40% {\n",
              "      border-color: transparent;\n",
              "      border-right-color: var(--fill-color);\n",
              "      border-top-color: var(--fill-color);\n",
              "    }\n",
              "    60% {\n",
              "      border-color: transparent;\n",
              "      border-right-color: var(--fill-color);\n",
              "    }\n",
              "    80% {\n",
              "      border-color: transparent;\n",
              "      border-right-color: var(--fill-color);\n",
              "      border-bottom-color: var(--fill-color);\n",
              "    }\n",
              "    90% {\n",
              "      border-color: transparent;\n",
              "      border-bottom-color: var(--fill-color);\n",
              "    }\n",
              "  }\n",
              "</style>\n",
              "\n",
              "  <script>\n",
              "    async function quickchart(key) {\n",
              "      const quickchartButtonEl =\n",
              "        document.querySelector('#' + key + ' button');\n",
              "      quickchartButtonEl.disabled = true;  // To prevent multiple clicks.\n",
              "      quickchartButtonEl.classList.add('colab-df-spinner');\n",
              "      try {\n",
              "        const charts = await google.colab.kernel.invokeFunction(\n",
              "            'suggestCharts', [key], {});\n",
              "      } catch (error) {\n",
              "        console.error('Error during call to suggestCharts:', error);\n",
              "      }\n",
              "      quickchartButtonEl.classList.remove('colab-df-spinner');\n",
              "      quickchartButtonEl.classList.add('colab-df-quickchart-complete');\n",
              "    }\n",
              "    (() => {\n",
              "      let quickchartButtonEl =\n",
              "        document.querySelector('#df-84812b5a-178f-49cb-ab22-713fea6b0bf5 button');\n",
              "      quickchartButtonEl.style.display =\n",
              "        google.colab.kernel.accessAllowed ? 'block' : 'none';\n",
              "    })();\n",
              "  </script>\n",
              "</div>\n",
              "\n",
              "    </div>\n",
              "  </div>\n"
            ],
            "application/vnd.google.colaboratory.intrinsic+json": {
              "type": "dataframe",
              "summary": "{\n  \"name\": \"X\",\n  \"rows\": 5,\n  \"fields\": [\n    {\n      \"column\": \"normal\",\n      \"properties\": {\n        \"dtype\": \"number\",\n        \"std\": 9.930136612989092e-16,\n        \"min\": 7.96,\n        \"max\": 7.96,\n        \"num_unique_values\": 1,\n        \"samples\": [\n          7.96\n        ],\n        \"semantic_type\": \"\",\n        \"description\": \"\"\n      }\n    },\n    {\n      \"column\": \"carbInput\",\n      \"properties\": {\n        \"dtype\": \"number\",\n        \"std\": 0.0,\n        \"min\": 41.0,\n        \"max\": 41.0,\n        \"num_unique_values\": 1,\n        \"samples\": [\n          41.0\n        ],\n        \"semantic_type\": \"\",\n        \"description\": \"\"\n      }\n    },\n    {\n      \"column\": \"insulinCarbRatio\",\n      \"properties\": {\n        \"dtype\": \"number\",\n        \"std\": 0.0,\n        \"min\": 7.0,\n        \"max\": 7.0,\n        \"num_unique_values\": 1,\n        \"samples\": [\n          7.0\n        ],\n        \"semantic_type\": \"\",\n        \"description\": \"\"\n      }\n    },\n    {\n      \"column\": \"bgInput\",\n      \"properties\": {\n        \"dtype\": \"number\",\n        \"std\": 0.0,\n        \"min\": 204.0,\n        \"max\": 204.0,\n        \"num_unique_values\": 1,\n        \"samples\": [\n          204.0\n        ],\n        \"semantic_type\": \"\",\n        \"description\": \"\"\n      }\n    },\n    {\n      \"column\": \"recommended.carb\",\n      \"properties\": {\n        \"dtype\": \"number\",\n        \"std\": 0.0,\n        \"min\": 5.86,\n        \"max\": 5.86,\n        \"num_unique_values\": 1,\n        \"samples\": [\n          5.86\n        ],\n        \"semantic_type\": \"\",\n        \"description\": \"\"\n      }\n    },\n    {\n      \"column\": \"recommended.net\",\n      \"properties\": {\n        \"dtype\": \"number\",\n        \"std\": 9.930136612989092e-16,\n        \"min\": 7.96,\n        \"max\": 7.96,\n        \"num_unique_values\": 1,\n        \"samples\": [\n          7.96\n        ],\n        \"semantic_type\": \"\",\n        \"description\": \"\"\n      }\n    },\n    {\n      \"column\": \"recommended.correction\",\n      \"properties\": {\n        \"dtype\": \"number\",\n        \"std\": 0.0,\n        \"min\": 2.1,\n        \"max\": 2.1,\n        \"num_unique_values\": 1,\n        \"samples\": [\n          2.1\n        ],\n        \"semantic_type\": \"\",\n        \"description\": \"\"\n      }\n    },\n    {\n      \"column\": \"insulinSensitivityFactor\",\n      \"properties\": {\n        \"dtype\": \"number\",\n        \"std\": 0.0,\n        \"min\": 40.0,\n        \"max\": 40.0,\n        \"num_unique_values\": 1,\n        \"samples\": [\n          40.0\n        ],\n        \"semantic_type\": \"\",\n        \"description\": \"\"\n      }\n    },\n    {\n      \"column\": \"targetBloodGlucose\",\n      \"properties\": {\n        \"dtype\": \"number\",\n        \"std\": 0.0,\n        \"min\": 110.0,\n        \"max\": 110.0,\n        \"num_unique_values\": 1,\n        \"samples\": [\n          110.0\n        ],\n        \"semantic_type\": \"\",\n        \"description\": \"\"\n      }\n    },\n    {\n      \"column\": \"insulinOnBoard\",\n      \"properties\": {\n        \"dtype\": \"number\",\n        \"std\": 0.0,\n        \"min\": 0.255,\n        \"max\": 0.255,\n        \"num_unique_values\": 1,\n        \"samples\": [\n          0.255\n        ],\n        \"semantic_type\": \"\",\n        \"description\": \"\"\n      }\n    },\n    {\n      \"column\": \"subjectID\",\n      \"properties\": {\n        \"dtype\": \"category\",\n        \"num_unique_values\": 1,\n        \"samples\": [\n          \"9\"\n        ],\n        \"semantic_type\": \"\",\n        \"description\": \"\"\n      }\n    },\n    {\n      \"column\": \"mg/dl_lag_1\",\n      \"properties\": {\n        \"dtype\": \"number\",\n        \"std\": 4.098780306383839,\n        \"min\": 198.0,\n        \"max\": 206.0,\n        \"num_unique_values\": 3,\n        \"samples\": [\n          204.0\n        ],\n        \"semantic_type\": \"\",\n        \"description\": \"\"\n      }\n    },\n    {\n      \"column\": \"mg/dl_lag_2\",\n      \"properties\": {\n        \"dtype\": \"number\",\n        \"std\": 3.7416573867739413,\n        \"min\": 198.0,\n        \"max\": 206.0,\n        \"num_unique_values\": 3,\n        \"samples\": [\n          204.0\n        ],\n        \"semantic_type\": \"\",\n        \"description\": \"\"\n      }\n    },\n    {\n      \"column\": \"mg/dl_lag_3\",\n      \"properties\": {\n        \"dtype\": \"number\",\n        \"std\": 23.004347415216976,\n        \"min\": 150.0,\n        \"max\": 204.0,\n        \"num_unique_values\": 3,\n        \"samples\": [\n          150.0\n        ],\n        \"semantic_type\": \"\",\n        \"description\": \"\"\n      }\n    },\n    {\n      \"column\": \"mg/dl_lag_4\",\n      \"properties\": {\n        \"dtype\": \"number\",\n        \"std\": 28.58671019897183,\n        \"min\": 150.0,\n        \"max\": 204.0,\n        \"num_unique_values\": 3,\n        \"samples\": [\n          150.0\n        ],\n        \"semantic_type\": \"\",\n        \"description\": \"\"\n      }\n    },\n    {\n      \"column\": \"mg/dl_lag_5\",\n      \"properties\": {\n        \"dtype\": \"number\",\n        \"std\": 33.40957946457871,\n        \"min\": 133.0,\n        \"max\": 204.0,\n        \"num_unique_values\": 3,\n        \"samples\": [\n          133.0\n        ],\n        \"semantic_type\": \"\",\n        \"description\": \"\"\n      }\n    }\n  ]\n}"
            }
          },
          "metadata": {},
          "execution_count": 41
        }
      ],
      "source": [
        "X.tail()"
      ]
    },
    {
      "cell_type": "code",
      "source": [
        "# Determine the split point (e.g., 95% for training)\n",
        "train_size = int(len(final_data) * 0.95)\n",
        "\n",
        "\n",
        "\n",
        "# Split into training and testing sets based on time order\n",
        "X_train = X.iloc[:train_size]\n",
        "X_test = X.iloc[train_size:]\n",
        "y_train = y.iloc[:train_size]\n",
        "y_test = y.iloc[train_size:]\n",
        "\n",
        "\n",
        "\n",
        "# Print the shapes of the resulting datasets\n",
        "print(\"Dataset shape:\", X.shape)\n",
        "print(\"Train set shape:\", X_train.shape, y_train.shape)\n",
        "print(\"Test set shape:\", X_test.shape, y_test.shape)"
      ],
      "metadata": {
        "colab": {
          "base_uri": "https://localhost:8080/"
        },
        "id": "No753vpouhkV",
        "outputId": "5d21c8b4-6826-461c-95be-dd2f7660adfa"
      },
      "execution_count": 42,
      "outputs": [
        {
          "output_type": "stream",
          "name": "stdout",
          "text": [
            "Dataset shape: (96838, 16)\n",
            "Train set shape: (91996, 16) (91996,)\n",
            "Test set shape: (4842, 16) (4842,)\n"
          ]
        }
      ]
    },
    {
      "cell_type": "code",
      "source": [
        "# Create an initial DataFrame to store the results\n",
        "ResultDF = pd.DataFrame(columns=[\"modelName\", \"subjects\", \"datasetLength\", \"MAE\", \"RMSE\", \"MAPE\"])"
      ],
      "metadata": {
        "id": "UsC_hWTeutq3"
      },
      "execution_count": 43,
      "outputs": []
    },
    {
      "cell_type": "code",
      "source": [
        "# One-hot encode 'subjectID' with handling unknown categories\n",
        "encoder = OneHotEncoder(drop='first', sparse_output=False, handle_unknown='ignore')\n",
        "\n",
        "# Apply one-hot encoding to 'subjectID' in the training set\n",
        "encoded_subjects_train = pd.DataFrame(encoder.fit_transform(X_train[['subjectID']]), columns=encoder.get_feature_names_out(['subjectID']))\n",
        "\n",
        "# Apply one-hot encoding to 'subjectID' in the test set (with handling unknown categories)\n",
        "encoded_subjects_test = pd.DataFrame(encoder.transform(X_test[['subjectID']]), columns=encoder.get_feature_names_out(['subjectID']))\n",
        "\n",
        "# Drop the original 'subjectID' column from both train and test sets\n",
        "X_train = X_train.drop(columns=['subjectID']).reset_index(drop=True)\n",
        "X_test = X_test.drop(columns=['subjectID']).reset_index(drop=True)\n",
        "\n",
        "# Concatenate the encoded subject features to both training and test data\n",
        "X_train = pd.concat([X_train, encoded_subjects_train], axis=1)\n",
        "X_test = pd.concat([X_test, encoded_subjects_test], axis=1)\n",
        "\n",
        "# Train XGBoost with default parameters\n",
        "model = xgb.XGBRegressor(\n",
        "    verbosity=0,  # Set verbosity to 0 to suppress warnings\n",
        "    objective='reg:squarederror',  # Default regression objective\n",
        "    random_state=42  # Set random state for reproducibility\n",
        ")\n",
        "\n",
        "# Fit the model with training data\n",
        "model.fit(X_train, y_train)\n",
        "\n",
        "# Predict on the test set\n",
        "preds = model.predict(X_test)\n",
        "\n",
        "# Calculate evaluation metrics\n",
        "mse = mean_squared_error(y_test, preds)\n",
        "rmse = np.sqrt(mse)\n",
        "mae = mean_absolute_error(y_test, preds)\n",
        "mape = mean_absolute_percentage_error(y_test, preds)\n",
        "\n",
        "print(\"MAE:\", mae)\n",
        "print(\"RMSE:\", rmse)\n",
        "print(\"MAPE:\", mape)\n",
        "\n",
        "# Append result in dataframe\n",
        "row_result = [\"XGBoost\", Conf.Subjects, Conf.Subjects * Conf.CGM_Inputs, mae, rmse, mape]\n",
        "\n",
        "ResultDF.loc[len(ResultDF)] = row_result\n",
        "\n",
        "# Clean up memory\n",
        "del model\n",
        "gc.collect()"
      ],
      "metadata": {
        "colab": {
          "base_uri": "https://localhost:8080/"
        },
        "id": "tiv8DKyTvE1C",
        "outputId": "c6275082-98d3-466d-984e-3c44c90739ea"
      },
      "execution_count": 48,
      "outputs": [
        {
          "output_type": "stream",
          "name": "stderr",
          "text": [
            "/usr/local/lib/python3.10/dist-packages/sklearn/preprocessing/_encoders.py:242: UserWarning: Found unknown categories in columns [0] during transform. These unknown categories will be encoded as all zeros\n",
            "  warnings.warn(\n"
          ]
        },
        {
          "output_type": "stream",
          "name": "stdout",
          "text": [
            "MAE: 6.012086005606764\n",
            "RMSE: 9.990418414115128\n",
            "MAPE: 0.030266176265054102\n"
          ]
        },
        {
          "output_type": "execute_result",
          "data": {
            "text/plain": [
              "5865"
            ]
          },
          "metadata": {},
          "execution_count": 48
        }
      ]
    },
    {
      "cell_type": "code",
      "source": [
        "# Train Random Forest with default parameters\n",
        "model = RandomForestRegressor(\n",
        "    random_state=42\n",
        ")\n",
        "\n",
        "# Fit the model with training data\n",
        "model.fit(X_train, y_train)\n",
        "\n",
        "# Predict on the test set\n",
        "preds = model.predict(X_test)\n",
        "\n",
        "# Calculate evaluation metrics\n",
        "mae = mean_absolute_error(y_test, preds)\n",
        "mse = mean_squared_error(y_test, preds)\n",
        "rmse = np.sqrt(mse)\n",
        "mape = mean_absolute_percentage_error(y_test, preds)\n",
        "\n",
        "print(\"MAE:\", mae)\n",
        "print(\"RMSE:\", rmse)\n",
        "print(\"MAPE:\", mape)\n",
        "\n",
        "# Append result in dataframe\n",
        "row_result = [\"Random Forest\", Conf.Subjects, Conf.Subjects * Conf.CGM_Inputs, mae, rmse, mape]\n",
        "ResultDF.loc[len(ResultDF)] = row_result\n",
        "\n",
        "# Clean up\n",
        "gc.collect()"
      ],
      "metadata": {
        "colab": {
          "base_uri": "https://localhost:8080/"
        },
        "id": "6yHB8mGmwkeh",
        "outputId": "41489e2a-e2d9-4093-eaba-a2e04d136f5a"
      },
      "execution_count": 49,
      "outputs": [
        {
          "output_type": "stream",
          "name": "stdout",
          "text": [
            "MAE: 4.047717883654478\n",
            "RMSE: 6.65983663690466\n",
            "MAPE: 0.022814725951572863\n"
          ]
        },
        {
          "output_type": "execute_result",
          "data": {
            "text/plain": [
              "54"
            ]
          },
          "metadata": {},
          "execution_count": 49
        }
      ]
    }
  ],
  "metadata": {
    "colab": {
      "provenance": []
    },
    "kernelspec": {
      "display_name": "Python 3",
      "name": "python3"
    },
    "language_info": {
      "name": "python"
    }
  },
  "nbformat": 4,
  "nbformat_minor": 0
}